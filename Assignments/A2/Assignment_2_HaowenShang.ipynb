{
 "cells": [
  {
   "cell_type": "markdown",
   "metadata": {},
   "source": [
    "# Assignment 2 "
   ]
  },
  {
   "cell_type": "markdown",
   "metadata": {},
   "source": [
    "### MACS 30000, Dr. Evans\n",
    "### Haowen Shang"
   ]
  },
  {
   "cell_type": "markdown",
   "metadata": {},
   "source": [
    "Due Wednesday, Oct. 17 at 11:30 AM"
   ]
  },
  {
   "cell_type": "code",
   "execution_count": 1,
   "metadata": {},
   "outputs": [],
   "source": [
    "# Import packages\n",
    "import numpy as np\n",
    "import pandas as pd\n",
    "import statsmodels.api as sm\n",
    "import matplotlib.pyplot as plt\n",
    "import math\n",
    "plt.style.use('seaborn')\n",
    "\n",
    "import warnings\n",
    "warnings.filterwarnings('ignore')"
   ]
  },
  {
   "cell_type": "markdown",
   "metadata": {},
   "source": [
    "### 1. Imputing age and gender"
   ]
  },
  {
   "cell_type": "markdown",
   "metadata": {},
   "source": [
    "#### (a) Here is where I will describe my proposed strategy ... and so on and so forth."
   ]
  },
  {
   "cell_type": "markdown",
   "metadata": {
    "collapsed": true
   },
   "source": [
    "First, we can use data in \"SurveyIncome.txt\" and do inear regression to find linear relationship between age, gender, total income and weight. Then, we can use these linear models and data of income and weight from \"BestIncome.txt\" to impute age and gender variables (total income can be calculated by labor income plus capital income).\n",
    "The linear models are as following:\n",
    "$$\\widehat{age_{i}}=\\widehat{\\alpha_{0}}+\\widehat{\\alpha_{1}}\\cdot totl\\underline{\\hspace{0.5em}}inc_{i}+\\widehat{\\alpha _{2}}\\cdot wgt_{i}$$\n",
    "$$P(\\widehat{female_{i}}=1\\mid totl\\underline{\\hspace{0.5em}}inc_{i},wgt_{i})  = \\frac{e^{\\widehat{\\beta _{0}}+\\widehat{\\beta _{1}}\\cdot totl\\underline{\\hspace{0.5em}}inc_{i}+\\widehat{\\beta  _{2}}\\cdot wgt_{i}}}{1+e^{\\widehat{\\beta _{0}}+\\widehat{\\beta _{1}}\\cdot totl\\underline{\\hspace{0.5em}}inc_{i}+\\widehat{\\beta  _{2}}\\cdot wgt_{i}}}$$\n",
    "\n",
    "\n"
   ]
  },
  {
   "cell_type": "code",
   "execution_count": 2,
   "metadata": {},
   "outputs": [],
   "source": [
    "# I use the following code cells to read in my data of SurvIncome.txt, name my variables, run descriptive statistics, etc. \n",
    "survey_income_raw = \"SurvIncome.txt\"\n",
    "survey = pd.read_table(survey_income_raw, sep=\",\", header=None)\n",
    "\n",
    "survey_cols = [ 'total_inc', 'wgt', 'age', 'female']\n",
    "survey.columns = survey_cols"
   ]
  },
  {
   "cell_type": "code",
   "execution_count": 3,
   "metadata": {},
   "outputs": [
    {
     "data": {
      "text/html": [
       "<div>\n",
       "<style scoped>\n",
       "    .dataframe tbody tr th:only-of-type {\n",
       "        vertical-align: middle;\n",
       "    }\n",
       "\n",
       "    .dataframe tbody tr th {\n",
       "        vertical-align: top;\n",
       "    }\n",
       "\n",
       "    .dataframe thead th {\n",
       "        text-align: right;\n",
       "    }\n",
       "</style>\n",
       "<table border=\"1\" class=\"dataframe\">\n",
       "  <thead>\n",
       "    <tr style=\"text-align: right;\">\n",
       "      <th></th>\n",
       "      <th>total_inc</th>\n",
       "      <th>wgt</th>\n",
       "      <th>age</th>\n",
       "      <th>female</th>\n",
       "    </tr>\n",
       "  </thead>\n",
       "  <tbody>\n",
       "    <tr>\n",
       "      <th>0</th>\n",
       "      <td>63642.513655</td>\n",
       "      <td>134.998269</td>\n",
       "      <td>46.610021</td>\n",
       "      <td>1.0</td>\n",
       "    </tr>\n",
       "    <tr>\n",
       "      <th>1</th>\n",
       "      <td>49177.380692</td>\n",
       "      <td>134.392957</td>\n",
       "      <td>48.791349</td>\n",
       "      <td>1.0</td>\n",
       "    </tr>\n",
       "    <tr>\n",
       "      <th>2</th>\n",
       "      <td>67833.339128</td>\n",
       "      <td>126.482992</td>\n",
       "      <td>48.429894</td>\n",
       "      <td>1.0</td>\n",
       "    </tr>\n",
       "    <tr>\n",
       "      <th>3</th>\n",
       "      <td>62962.266217</td>\n",
       "      <td>128.038121</td>\n",
       "      <td>41.543926</td>\n",
       "      <td>1.0</td>\n",
       "    </tr>\n",
       "    <tr>\n",
       "      <th>4</th>\n",
       "      <td>58716.952597</td>\n",
       "      <td>126.211980</td>\n",
       "      <td>41.201245</td>\n",
       "      <td>1.0</td>\n",
       "    </tr>\n",
       "  </tbody>\n",
       "</table>\n",
       "</div>"
      ],
      "text/plain": [
       "      total_inc         wgt        age  female\n",
       "0  63642.513655  134.998269  46.610021     1.0\n",
       "1  49177.380692  134.392957  48.791349     1.0\n",
       "2  67833.339128  126.482992  48.429894     1.0\n",
       "3  62962.266217  128.038121  41.543926     1.0\n",
       "4  58716.952597  126.211980  41.201245     1.0"
      ]
     },
     "execution_count": 3,
     "metadata": {},
     "output_type": "execute_result"
    }
   ],
   "source": [
    "survey.head()"
   ]
  },
  {
   "cell_type": "code",
   "execution_count": 4,
   "metadata": {},
   "outputs": [
    {
     "data": {
      "text/html": [
       "<div>\n",
       "<style scoped>\n",
       "    .dataframe tbody tr th:only-of-type {\n",
       "        vertical-align: middle;\n",
       "    }\n",
       "\n",
       "    .dataframe tbody tr th {\n",
       "        vertical-align: top;\n",
       "    }\n",
       "\n",
       "    .dataframe thead th {\n",
       "        text-align: right;\n",
       "    }\n",
       "</style>\n",
       "<table border=\"1\" class=\"dataframe\">\n",
       "  <thead>\n",
       "    <tr style=\"text-align: right;\">\n",
       "      <th></th>\n",
       "      <th>total_inc</th>\n",
       "      <th>wgt</th>\n",
       "      <th>age</th>\n",
       "      <th>female</th>\n",
       "    </tr>\n",
       "  </thead>\n",
       "  <tbody>\n",
       "    <tr>\n",
       "      <th>995</th>\n",
       "      <td>61270.538697</td>\n",
       "      <td>184.930002</td>\n",
       "      <td>46.356881</td>\n",
       "      <td>0.0</td>\n",
       "    </tr>\n",
       "    <tr>\n",
       "      <th>996</th>\n",
       "      <td>59039.159876</td>\n",
       "      <td>180.482304</td>\n",
       "      <td>50.986966</td>\n",
       "      <td>0.0</td>\n",
       "    </tr>\n",
       "    <tr>\n",
       "      <th>997</th>\n",
       "      <td>67967.188804</td>\n",
       "      <td>156.816883</td>\n",
       "      <td>40.965268</td>\n",
       "      <td>0.0</td>\n",
       "    </tr>\n",
       "    <tr>\n",
       "      <th>998</th>\n",
       "      <td>79726.914251</td>\n",
       "      <td>158.935050</td>\n",
       "      <td>41.190371</td>\n",
       "      <td>0.0</td>\n",
       "    </tr>\n",
       "    <tr>\n",
       "      <th>999</th>\n",
       "      <td>71005.223603</td>\n",
       "      <td>169.067695</td>\n",
       "      <td>48.480007</td>\n",
       "      <td>0.0</td>\n",
       "    </tr>\n",
       "  </tbody>\n",
       "</table>\n",
       "</div>"
      ],
      "text/plain": [
       "        total_inc         wgt        age  female\n",
       "995  61270.538697  184.930002  46.356881     0.0\n",
       "996  59039.159876  180.482304  50.986966     0.0\n",
       "997  67967.188804  156.816883  40.965268     0.0\n",
       "998  79726.914251  158.935050  41.190371     0.0\n",
       "999  71005.223603  169.067695  48.480007     0.0"
      ]
     },
     "execution_count": 4,
     "metadata": {},
     "output_type": "execute_result"
    }
   ],
   "source": [
    "survey.tail()"
   ]
  },
  {
   "cell_type": "code",
   "execution_count": 5,
   "metadata": {},
   "outputs": [
    {
     "data": {
      "text/html": [
       "<div>\n",
       "<style scoped>\n",
       "    .dataframe tbody tr th:only-of-type {\n",
       "        vertical-align: middle;\n",
       "    }\n",
       "\n",
       "    .dataframe tbody tr th {\n",
       "        vertical-align: top;\n",
       "    }\n",
       "\n",
       "    .dataframe thead th {\n",
       "        text-align: right;\n",
       "    }\n",
       "</style>\n",
       "<table border=\"1\" class=\"dataframe\">\n",
       "  <thead>\n",
       "    <tr style=\"text-align: right;\">\n",
       "      <th></th>\n",
       "      <th>total_inc</th>\n",
       "      <th>wgt</th>\n",
       "      <th>age</th>\n",
       "      <th>female</th>\n",
       "    </tr>\n",
       "  </thead>\n",
       "  <tbody>\n",
       "    <tr>\n",
       "      <th>count</th>\n",
       "      <td>1000.000000</td>\n",
       "      <td>1000.000000</td>\n",
       "      <td>1000.000000</td>\n",
       "      <td>1000.00000</td>\n",
       "    </tr>\n",
       "    <tr>\n",
       "      <th>mean</th>\n",
       "      <td>64871.210860</td>\n",
       "      <td>149.542181</td>\n",
       "      <td>44.839320</td>\n",
       "      <td>0.50000</td>\n",
       "    </tr>\n",
       "    <tr>\n",
       "      <th>std</th>\n",
       "      <td>9542.444214</td>\n",
       "      <td>22.028883</td>\n",
       "      <td>5.939185</td>\n",
       "      <td>0.50025</td>\n",
       "    </tr>\n",
       "    <tr>\n",
       "      <th>min</th>\n",
       "      <td>31816.281649</td>\n",
       "      <td>99.662468</td>\n",
       "      <td>25.741333</td>\n",
       "      <td>0.00000</td>\n",
       "    </tr>\n",
       "    <tr>\n",
       "      <th>25%</th>\n",
       "      <td>58349.862384</td>\n",
       "      <td>130.179235</td>\n",
       "      <td>41.025231</td>\n",
       "      <td>0.00000</td>\n",
       "    </tr>\n",
       "    <tr>\n",
       "      <th>50%</th>\n",
       "      <td>65281.271149</td>\n",
       "      <td>149.758434</td>\n",
       "      <td>44.955981</td>\n",
       "      <td>0.50000</td>\n",
       "    </tr>\n",
       "    <tr>\n",
       "      <th>75%</th>\n",
       "      <td>71749.038000</td>\n",
       "      <td>170.147337</td>\n",
       "      <td>48.817644</td>\n",
       "      <td>1.00000</td>\n",
       "    </tr>\n",
       "    <tr>\n",
       "      <th>max</th>\n",
       "      <td>92556.135462</td>\n",
       "      <td>196.503274</td>\n",
       "      <td>66.534646</td>\n",
       "      <td>1.00000</td>\n",
       "    </tr>\n",
       "  </tbody>\n",
       "</table>\n",
       "</div>"
      ],
      "text/plain": [
       "          total_inc          wgt          age      female\n",
       "count   1000.000000  1000.000000  1000.000000  1000.00000\n",
       "mean   64871.210860   149.542181    44.839320     0.50000\n",
       "std     9542.444214    22.028883     5.939185     0.50025\n",
       "min    31816.281649    99.662468    25.741333     0.00000\n",
       "25%    58349.862384   130.179235    41.025231     0.00000\n",
       "50%    65281.271149   149.758434    44.955981     0.50000\n",
       "75%    71749.038000   170.147337    48.817644     1.00000\n",
       "max    92556.135462   196.503274    66.534646     1.00000"
      ]
     },
     "execution_count": 5,
     "metadata": {},
     "output_type": "execute_result"
    }
   ],
   "source": [
    "survey.describe()"
   ]
  },
  {
   "cell_type": "code",
   "execution_count": 6,
   "metadata": {},
   "outputs": [],
   "source": [
    "# I use the following code cells to read in my data of BestIncome.txt, name my variables, run descriptive statistics, etc. \n",
    "best_income_raw = \"BestIncome.txt\"\n",
    "best = pd.read_table(best_income_raw, sep=\",\", header=None)\n",
    "\n",
    "best_cols = [ 'lab_inc', 'cap_inc', 'hgt', 'wgt']\n",
    "best.columns = best_cols\n",
    "\n",
    "best['tot_inc'] = best.lab_inc +best.cap_inc"
   ]
  },
  {
   "cell_type": "code",
   "execution_count": 7,
   "metadata": {},
   "outputs": [
    {
     "data": {
      "text/html": [
       "<div>\n",
       "<style scoped>\n",
       "    .dataframe tbody tr th:only-of-type {\n",
       "        vertical-align: middle;\n",
       "    }\n",
       "\n",
       "    .dataframe tbody tr th {\n",
       "        vertical-align: top;\n",
       "    }\n",
       "\n",
       "    .dataframe thead th {\n",
       "        text-align: right;\n",
       "    }\n",
       "</style>\n",
       "<table border=\"1\" class=\"dataframe\">\n",
       "  <thead>\n",
       "    <tr style=\"text-align: right;\">\n",
       "      <th></th>\n",
       "      <th>lab_inc</th>\n",
       "      <th>cap_inc</th>\n",
       "      <th>hgt</th>\n",
       "      <th>wgt</th>\n",
       "      <th>tot_inc</th>\n",
       "    </tr>\n",
       "  </thead>\n",
       "  <tbody>\n",
       "    <tr>\n",
       "      <th>0</th>\n",
       "      <td>52655.605507</td>\n",
       "      <td>9279.509829</td>\n",
       "      <td>64.568138</td>\n",
       "      <td>152.920634</td>\n",
       "      <td>61935.115336</td>\n",
       "    </tr>\n",
       "    <tr>\n",
       "      <th>1</th>\n",
       "      <td>70586.979225</td>\n",
       "      <td>9451.016902</td>\n",
       "      <td>65.727648</td>\n",
       "      <td>159.534414</td>\n",
       "      <td>80037.996127</td>\n",
       "    </tr>\n",
       "    <tr>\n",
       "      <th>2</th>\n",
       "      <td>53738.008339</td>\n",
       "      <td>8078.132315</td>\n",
       "      <td>66.268796</td>\n",
       "      <td>152.502405</td>\n",
       "      <td>61816.140654</td>\n",
       "    </tr>\n",
       "    <tr>\n",
       "      <th>3</th>\n",
       "      <td>55128.180903</td>\n",
       "      <td>12692.670403</td>\n",
       "      <td>62.910559</td>\n",
       "      <td>149.218189</td>\n",
       "      <td>67820.851305</td>\n",
       "    </tr>\n",
       "    <tr>\n",
       "      <th>4</th>\n",
       "      <td>44482.794867</td>\n",
       "      <td>9812.975746</td>\n",
       "      <td>68.678295</td>\n",
       "      <td>152.726358</td>\n",
       "      <td>54295.770612</td>\n",
       "    </tr>\n",
       "  </tbody>\n",
       "</table>\n",
       "</div>"
      ],
      "text/plain": [
       "        lab_inc       cap_inc        hgt         wgt       tot_inc\n",
       "0  52655.605507   9279.509829  64.568138  152.920634  61935.115336\n",
       "1  70586.979225   9451.016902  65.727648  159.534414  80037.996127\n",
       "2  53738.008339   8078.132315  66.268796  152.502405  61816.140654\n",
       "3  55128.180903  12692.670403  62.910559  149.218189  67820.851305\n",
       "4  44482.794867   9812.975746  68.678295  152.726358  54295.770612"
      ]
     },
     "execution_count": 7,
     "metadata": {},
     "output_type": "execute_result"
    }
   ],
   "source": [
    "best.head()"
   ]
  },
  {
   "cell_type": "code",
   "execution_count": 8,
   "metadata": {},
   "outputs": [
    {
     "data": {
      "text/html": [
       "<div>\n",
       "<style scoped>\n",
       "    .dataframe tbody tr th:only-of-type {\n",
       "        vertical-align: middle;\n",
       "    }\n",
       "\n",
       "    .dataframe tbody tr th {\n",
       "        vertical-align: top;\n",
       "    }\n",
       "\n",
       "    .dataframe thead th {\n",
       "        text-align: right;\n",
       "    }\n",
       "</style>\n",
       "<table border=\"1\" class=\"dataframe\">\n",
       "  <thead>\n",
       "    <tr style=\"text-align: right;\">\n",
       "      <th></th>\n",
       "      <th>lab_inc</th>\n",
       "      <th>cap_inc</th>\n",
       "      <th>hgt</th>\n",
       "      <th>wgt</th>\n",
       "      <th>tot_inc</th>\n",
       "    </tr>\n",
       "  </thead>\n",
       "  <tbody>\n",
       "    <tr>\n",
       "      <th>9995</th>\n",
       "      <td>51502.225233</td>\n",
       "      <td>14786.050723</td>\n",
       "      <td>66.781187</td>\n",
       "      <td>154.645212</td>\n",
       "      <td>66288.275956</td>\n",
       "    </tr>\n",
       "    <tr>\n",
       "      <th>9996</th>\n",
       "      <td>52624.117104</td>\n",
       "      <td>11048.811747</td>\n",
       "      <td>64.499036</td>\n",
       "      <td>165.868002</td>\n",
       "      <td>63672.928851</td>\n",
       "    </tr>\n",
       "    <tr>\n",
       "      <th>9997</th>\n",
       "      <td>50725.310645</td>\n",
       "      <td>13195.218100</td>\n",
       "      <td>64.508873</td>\n",
       "      <td>154.657639</td>\n",
       "      <td>63920.528745</td>\n",
       "    </tr>\n",
       "    <tr>\n",
       "      <th>9998</th>\n",
       "      <td>56392.824076</td>\n",
       "      <td>8470.592718</td>\n",
       "      <td>62.161556</td>\n",
       "      <td>145.498194</td>\n",
       "      <td>64863.416794</td>\n",
       "    </tr>\n",
       "    <tr>\n",
       "      <th>9999</th>\n",
       "      <td>44274.098164</td>\n",
       "      <td>12765.748454</td>\n",
       "      <td>64.974145</td>\n",
       "      <td>135.936862</td>\n",
       "      <td>57039.846618</td>\n",
       "    </tr>\n",
       "  </tbody>\n",
       "</table>\n",
       "</div>"
      ],
      "text/plain": [
       "           lab_inc       cap_inc        hgt         wgt       tot_inc\n",
       "9995  51502.225233  14786.050723  66.781187  154.645212  66288.275956\n",
       "9996  52624.117104  11048.811747  64.499036  165.868002  63672.928851\n",
       "9997  50725.310645  13195.218100  64.508873  154.657639  63920.528745\n",
       "9998  56392.824076   8470.592718  62.161556  145.498194  64863.416794\n",
       "9999  44274.098164  12765.748454  64.974145  135.936862  57039.846618"
      ]
     },
     "execution_count": 8,
     "metadata": {},
     "output_type": "execute_result"
    }
   ],
   "source": [
    "best.tail()"
   ]
  },
  {
   "cell_type": "code",
   "execution_count": 9,
   "metadata": {},
   "outputs": [
    {
     "data": {
      "text/html": [
       "<div>\n",
       "<style scoped>\n",
       "    .dataframe tbody tr th:only-of-type {\n",
       "        vertical-align: middle;\n",
       "    }\n",
       "\n",
       "    .dataframe tbody tr th {\n",
       "        vertical-align: top;\n",
       "    }\n",
       "\n",
       "    .dataframe thead th {\n",
       "        text-align: right;\n",
       "    }\n",
       "</style>\n",
       "<table border=\"1\" class=\"dataframe\">\n",
       "  <thead>\n",
       "    <tr style=\"text-align: right;\">\n",
       "      <th></th>\n",
       "      <th>lab_inc</th>\n",
       "      <th>cap_inc</th>\n",
       "      <th>hgt</th>\n",
       "      <th>wgt</th>\n",
       "      <th>tot_inc</th>\n",
       "    </tr>\n",
       "  </thead>\n",
       "  <tbody>\n",
       "    <tr>\n",
       "      <th>count</th>\n",
       "      <td>10000.000000</td>\n",
       "      <td>10000.000000</td>\n",
       "      <td>10000.000000</td>\n",
       "      <td>10000.000000</td>\n",
       "      <td>10000.000000</td>\n",
       "    </tr>\n",
       "    <tr>\n",
       "      <th>mean</th>\n",
       "      <td>57052.925133</td>\n",
       "      <td>9985.798563</td>\n",
       "      <td>65.014021</td>\n",
       "      <td>150.006011</td>\n",
       "      <td>67038.723697</td>\n",
       "    </tr>\n",
       "    <tr>\n",
       "      <th>std</th>\n",
       "      <td>8036.544363</td>\n",
       "      <td>2010.123691</td>\n",
       "      <td>1.999692</td>\n",
       "      <td>9.973001</td>\n",
       "      <td>8294.497996</td>\n",
       "    </tr>\n",
       "    <tr>\n",
       "      <th>min</th>\n",
       "      <td>22917.607900</td>\n",
       "      <td>1495.191896</td>\n",
       "      <td>58.176154</td>\n",
       "      <td>114.510700</td>\n",
       "      <td>33651.691815</td>\n",
       "    </tr>\n",
       "    <tr>\n",
       "      <th>25%</th>\n",
       "      <td>51624.339880</td>\n",
       "      <td>8611.756679</td>\n",
       "      <td>63.652971</td>\n",
       "      <td>143.341979</td>\n",
       "      <td>61452.517672</td>\n",
       "    </tr>\n",
       "    <tr>\n",
       "      <th>50%</th>\n",
       "      <td>56968.709935</td>\n",
       "      <td>9969.840117</td>\n",
       "      <td>65.003557</td>\n",
       "      <td>149.947641</td>\n",
       "      <td>67042.751487</td>\n",
       "    </tr>\n",
       "    <tr>\n",
       "      <th>75%</th>\n",
       "      <td>62408.232277</td>\n",
       "      <td>11339.905773</td>\n",
       "      <td>66.356915</td>\n",
       "      <td>156.724586</td>\n",
       "      <td>72636.874684</td>\n",
       "    </tr>\n",
       "    <tr>\n",
       "      <th>max</th>\n",
       "      <td>90059.898537</td>\n",
       "      <td>19882.320069</td>\n",
       "      <td>72.802277</td>\n",
       "      <td>185.408280</td>\n",
       "      <td>98996.053756</td>\n",
       "    </tr>\n",
       "  </tbody>\n",
       "</table>\n",
       "</div>"
      ],
      "text/plain": [
       "            lab_inc       cap_inc           hgt           wgt       tot_inc\n",
       "count  10000.000000  10000.000000  10000.000000  10000.000000  10000.000000\n",
       "mean   57052.925133   9985.798563     65.014021    150.006011  67038.723697\n",
       "std     8036.544363   2010.123691      1.999692      9.973001   8294.497996\n",
       "min    22917.607900   1495.191896     58.176154    114.510700  33651.691815\n",
       "25%    51624.339880   8611.756679     63.652971    143.341979  61452.517672\n",
       "50%    56968.709935   9969.840117     65.003557    149.947641  67042.751487\n",
       "75%    62408.232277  11339.905773     66.356915    156.724586  72636.874684\n",
       "max    90059.898537  19882.320069     72.802277    185.408280  98996.053756"
      ]
     },
     "execution_count": 9,
     "metadata": {},
     "output_type": "execute_result"
    }
   ],
   "source": [
    "best.describe()"
   ]
  },
  {
   "cell_type": "markdown",
   "metadata": {},
   "source": [
    "#### (b) Here is where I'll use my proposed method from part (a) to impute variables."
   ]
  },
  {
   "cell_type": "code",
   "execution_count": 10,
   "metadata": {},
   "outputs": [
    {
     "name": "stdout",
     "output_type": "stream",
     "text": [
      "                            OLS Regression Results                            \n",
      "==============================================================================\n",
      "Dep. Variable:                    age   R-squared:                       0.001\n",
      "Model:                            OLS   Adj. R-squared:                 -0.001\n",
      "Method:                 Least Squares   F-statistic:                    0.6326\n",
      "Date:                Tue, 16 Oct 2018   Prob (F-statistic):              0.531\n",
      "Time:                        18:46:15   Log-Likelihood:                -3199.4\n",
      "No. Observations:                1000   AIC:                             6405.\n",
      "Df Residuals:                     997   BIC:                             6419.\n",
      "Df Model:                           2                                         \n",
      "Covariance Type:            nonrobust                                         \n",
      "==============================================================================\n",
      "                 coef    std err          t      P>|t|      [0.025      0.975]\n",
      "------------------------------------------------------------------------------\n",
      "total_inc    2.52e-05   2.26e-05      1.114      0.266   -1.92e-05    6.96e-05\n",
      "wgt           -0.0067      0.010     -0.686      0.493      -0.026       0.013\n",
      "const         44.2097      1.490     29.666      0.000      41.285      47.134\n",
      "==============================================================================\n",
      "Omnibus:                        2.460   Durbin-Watson:                   1.921\n",
      "Prob(Omnibus):                  0.292   Jarque-Bera (JB):                2.322\n",
      "Skew:                          -0.109   Prob(JB):                        0.313\n",
      "Kurtosis:                       3.092   Cond. No.                     5.20e+05\n",
      "==============================================================================\n",
      "\n",
      "Warnings:\n",
      "[1] Standard Errors assume that the covariance matrix of the errors is correctly specified.\n",
      "[2] The condition number is large, 5.2e+05. This might indicate that there are\n",
      "strong multicollinearity or other numerical problems.\n"
     ]
    }
   ],
   "source": [
    "# I will use the following code cells to execute the code that will impute those variables.\n",
    "outcome = 'age'\n",
    "features =  ['total_inc', 'wgt']\n",
    "X, y = survey[features], survey[outcome]\n",
    "X = sm.add_constant(X, prepend=False)\n",
    "\n",
    "m = sm.OLS(y, X)\n",
    "res = m.fit()\n",
    "print(res.summary())"
   ]
  },
  {
   "cell_type": "code",
   "execution_count": 11,
   "metadata": {},
   "outputs": [
    {
     "data": {
      "text/html": [
       "<div>\n",
       "<style scoped>\n",
       "    .dataframe tbody tr th:only-of-type {\n",
       "        vertical-align: middle;\n",
       "    }\n",
       "\n",
       "    .dataframe tbody tr th {\n",
       "        vertical-align: top;\n",
       "    }\n",
       "\n",
       "    .dataframe thead th {\n",
       "        text-align: right;\n",
       "    }\n",
       "</style>\n",
       "<table border=\"1\" class=\"dataframe\">\n",
       "  <thead>\n",
       "    <tr style=\"text-align: right;\">\n",
       "      <th></th>\n",
       "      <th>age</th>\n",
       "      <th>total_inc</th>\n",
       "      <th>wgt</th>\n",
       "      <th>const</th>\n",
       "    </tr>\n",
       "  </thead>\n",
       "  <tbody>\n",
       "    <tr>\n",
       "      <th>0</th>\n",
       "      <td>46.610021</td>\n",
       "      <td>63642.513655</td>\n",
       "      <td>134.998269</td>\n",
       "      <td>1.0</td>\n",
       "    </tr>\n",
       "    <tr>\n",
       "      <th>1</th>\n",
       "      <td>48.791349</td>\n",
       "      <td>49177.380692</td>\n",
       "      <td>134.392957</td>\n",
       "      <td>1.0</td>\n",
       "    </tr>\n",
       "    <tr>\n",
       "      <th>2</th>\n",
       "      <td>48.429894</td>\n",
       "      <td>67833.339128</td>\n",
       "      <td>126.482992</td>\n",
       "      <td>1.0</td>\n",
       "    </tr>\n",
       "    <tr>\n",
       "      <th>3</th>\n",
       "      <td>41.543926</td>\n",
       "      <td>62962.266217</td>\n",
       "      <td>128.038121</td>\n",
       "      <td>1.0</td>\n",
       "    </tr>\n",
       "    <tr>\n",
       "      <th>4</th>\n",
       "      <td>41.201245</td>\n",
       "      <td>58716.952597</td>\n",
       "      <td>126.211980</td>\n",
       "      <td>1.0</td>\n",
       "    </tr>\n",
       "  </tbody>\n",
       "</table>\n",
       "</div>"
      ],
      "text/plain": [
       "         age     total_inc         wgt  const\n",
       "0  46.610021  63642.513655  134.998269    1.0\n",
       "1  48.791349  49177.380692  134.392957    1.0\n",
       "2  48.429894  67833.339128  126.482992    1.0\n",
       "3  41.543926  62962.266217  128.038121    1.0\n",
       "4  41.201245  58716.952597  126.211980    1.0"
      ]
     },
     "execution_count": 11,
     "metadata": {},
     "output_type": "execute_result"
    }
   ],
   "source": [
    "ols_survey = pd.concat([y, X], axis=1)\n",
    "ols_survey.head()"
   ]
  },
  {
   "cell_type": "code",
   "execution_count": 12,
   "metadata": {},
   "outputs": [
    {
     "data": {
      "text/html": [
       "<div>\n",
       "<style scoped>\n",
       "    .dataframe tbody tr th:only-of-type {\n",
       "        vertical-align: middle;\n",
       "    }\n",
       "\n",
       "    .dataframe tbody tr th {\n",
       "        vertical-align: top;\n",
       "    }\n",
       "\n",
       "    .dataframe thead th {\n",
       "        text-align: right;\n",
       "    }\n",
       "</style>\n",
       "<table border=\"1\" class=\"dataframe\">\n",
       "  <thead>\n",
       "    <tr style=\"text-align: right;\">\n",
       "      <th></th>\n",
       "      <th>age</th>\n",
       "      <th>total_inc</th>\n",
       "      <th>wgt</th>\n",
       "      <th>const</th>\n",
       "      <th>agehat</th>\n",
       "    </tr>\n",
       "  </thead>\n",
       "  <tbody>\n",
       "    <tr>\n",
       "      <th>0</th>\n",
       "      <td>46.610021</td>\n",
       "      <td>63642.513655</td>\n",
       "      <td>134.998269</td>\n",
       "      <td>1.0</td>\n",
       "      <td>44.906121</td>\n",
       "    </tr>\n",
       "    <tr>\n",
       "      <th>1</th>\n",
       "      <td>48.791349</td>\n",
       "      <td>49177.380692</td>\n",
       "      <td>134.392957</td>\n",
       "      <td>1.0</td>\n",
       "      <td>44.545636</td>\n",
       "    </tr>\n",
       "    <tr>\n",
       "      <th>2</th>\n",
       "      <td>48.429894</td>\n",
       "      <td>67833.339128</td>\n",
       "      <td>126.482992</td>\n",
       "      <td>1.0</td>\n",
       "      <td>45.068980</td>\n",
       "    </tr>\n",
       "    <tr>\n",
       "      <th>3</th>\n",
       "      <td>41.543926</td>\n",
       "      <td>62962.266217</td>\n",
       "      <td>128.038121</td>\n",
       "      <td>1.0</td>\n",
       "      <td>44.935764</td>\n",
       "    </tr>\n",
       "    <tr>\n",
       "      <th>4</th>\n",
       "      <td>41.201245</td>\n",
       "      <td>58716.952597</td>\n",
       "      <td>126.211980</td>\n",
       "      <td>1.0</td>\n",
       "      <td>44.841048</td>\n",
       "    </tr>\n",
       "  </tbody>\n",
       "</table>\n",
       "</div>"
      ],
      "text/plain": [
       "         age     total_inc         wgt  const     agehat\n",
       "0  46.610021  63642.513655  134.998269    1.0  44.906121\n",
       "1  48.791349  49177.380692  134.392957    1.0  44.545636\n",
       "2  48.429894  67833.339128  126.482992    1.0  45.068980\n",
       "3  41.543926  62962.266217  128.038121    1.0  44.935764\n",
       "4  41.201245  58716.952597  126.211980    1.0  44.841048"
      ]
     },
     "execution_count": 12,
     "metadata": {},
     "output_type": "execute_result"
    }
   ],
   "source": [
    "ols_survey['agehat'] = res.predict(X)\n",
    "ols_survey.head()"
   ]
  },
  {
   "cell_type": "code",
   "execution_count": 13,
   "metadata": {},
   "outputs": [
    {
     "name": "stdout",
     "output_type": "stream",
     "text": [
      "Optimization terminated successfully.\n",
      "         Current function value: 0.036050\n",
      "         Iterations 11\n",
      "                           Logit Regression Results                           \n",
      "==============================================================================\n",
      "Dep. Variable:                 female   No. Observations:                 1000\n",
      "Model:                          Logit   Df Residuals:                      997\n",
      "Method:                           MLE   Df Model:                            2\n",
      "Date:                Tue, 16 Oct 2018   Pseudo R-squ.:                  0.9480\n",
      "Time:                        18:46:17   Log-Likelihood:                -36.050\n",
      "converged:                       True   LL-Null:                       -693.15\n",
      "                                        LLR p-value:                4.232e-286\n",
      "==============================================================================\n",
      "                 coef    std err          z      P>|z|      [0.025      0.975]\n",
      "------------------------------------------------------------------------------\n",
      "total_inc     -0.0002   4.25e-05     -3.660      0.000      -0.000   -7.22e-05\n",
      "wgt           -0.4460      0.062     -7.219      0.000      -0.567      -0.325\n",
      "const         76.7929     10.569      7.266      0.000      56.078      97.508\n",
      "==============================================================================\n",
      "\n",
      "Possibly complete quasi-separation: A fraction 0.55 of observations can be\n",
      "perfectly predicted. This might indicate that there is complete\n",
      "quasi-separation. In this case some parameters will not be identified.\n"
     ]
    }
   ],
   "source": [
    "outcome = 'female'\n",
    "features =  ['total_inc', 'wgt']\n",
    "X, y = survey[features], survey[outcome]\n",
    "X = sm.add_constant(X, prepend=False)\n",
    "\n",
    "m = sm.Logit(y, X)\n",
    "res = m.fit()\n",
    "print(res.summary())"
   ]
  },
  {
   "cell_type": "code",
   "execution_count": 14,
   "metadata": {},
   "outputs": [
    {
     "data": {
      "text/html": [
       "<div>\n",
       "<style scoped>\n",
       "    .dataframe tbody tr th:only-of-type {\n",
       "        vertical-align: middle;\n",
       "    }\n",
       "\n",
       "    .dataframe tbody tr th {\n",
       "        vertical-align: top;\n",
       "    }\n",
       "\n",
       "    .dataframe thead th {\n",
       "        text-align: right;\n",
       "    }\n",
       "</style>\n",
       "<table border=\"1\" class=\"dataframe\">\n",
       "  <thead>\n",
       "    <tr style=\"text-align: right;\">\n",
       "      <th></th>\n",
       "      <th>female</th>\n",
       "      <th>total_inc</th>\n",
       "      <th>wgt</th>\n",
       "      <th>const</th>\n",
       "    </tr>\n",
       "  </thead>\n",
       "  <tbody>\n",
       "    <tr>\n",
       "      <th>0</th>\n",
       "      <td>1.0</td>\n",
       "      <td>63642.513655</td>\n",
       "      <td>134.998269</td>\n",
       "      <td>1.0</td>\n",
       "    </tr>\n",
       "    <tr>\n",
       "      <th>1</th>\n",
       "      <td>1.0</td>\n",
       "      <td>49177.380692</td>\n",
       "      <td>134.392957</td>\n",
       "      <td>1.0</td>\n",
       "    </tr>\n",
       "    <tr>\n",
       "      <th>2</th>\n",
       "      <td>1.0</td>\n",
       "      <td>67833.339128</td>\n",
       "      <td>126.482992</td>\n",
       "      <td>1.0</td>\n",
       "    </tr>\n",
       "    <tr>\n",
       "      <th>3</th>\n",
       "      <td>1.0</td>\n",
       "      <td>62962.266217</td>\n",
       "      <td>128.038121</td>\n",
       "      <td>1.0</td>\n",
       "    </tr>\n",
       "    <tr>\n",
       "      <th>4</th>\n",
       "      <td>1.0</td>\n",
       "      <td>58716.952597</td>\n",
       "      <td>126.211980</td>\n",
       "      <td>1.0</td>\n",
       "    </tr>\n",
       "  </tbody>\n",
       "</table>\n",
       "</div>"
      ],
      "text/plain": [
       "   female     total_inc         wgt  const\n",
       "0     1.0  63642.513655  134.998269    1.0\n",
       "1     1.0  49177.380692  134.392957    1.0\n",
       "2     1.0  67833.339128  126.482992    1.0\n",
       "3     1.0  62962.266217  128.038121    1.0\n",
       "4     1.0  58716.952597  126.211980    1.0"
      ]
     },
     "execution_count": 14,
     "metadata": {},
     "output_type": "execute_result"
    }
   ],
   "source": [
    "logit_survey = pd.concat([y, X], axis=1)\n",
    "logit_survey.head()"
   ]
  },
  {
   "cell_type": "code",
   "execution_count": 15,
   "metadata": {},
   "outputs": [
    {
     "data": {
      "text/html": [
       "<div>\n",
       "<style scoped>\n",
       "    .dataframe tbody tr th:only-of-type {\n",
       "        vertical-align: middle;\n",
       "    }\n",
       "\n",
       "    .dataframe tbody tr th {\n",
       "        vertical-align: top;\n",
       "    }\n",
       "\n",
       "    .dataframe thead th {\n",
       "        text-align: right;\n",
       "    }\n",
       "</style>\n",
       "<table border=\"1\" class=\"dataframe\">\n",
       "  <thead>\n",
       "    <tr style=\"text-align: right;\">\n",
       "      <th></th>\n",
       "      <th>female</th>\n",
       "      <th>total_inc</th>\n",
       "      <th>wgt</th>\n",
       "      <th>const</th>\n",
       "      <th>prob_femalehat</th>\n",
       "    </tr>\n",
       "  </thead>\n",
       "  <tbody>\n",
       "    <tr>\n",
       "      <th>0</th>\n",
       "      <td>1.0</td>\n",
       "      <td>63642.513655</td>\n",
       "      <td>134.998269</td>\n",
       "      <td>1.0</td>\n",
       "      <td>0.998746</td>\n",
       "    </tr>\n",
       "    <tr>\n",
       "      <th>1</th>\n",
       "      <td>1.0</td>\n",
       "      <td>49177.380692</td>\n",
       "      <td>134.392957</td>\n",
       "      <td>1.0</td>\n",
       "      <td>0.999899</td>\n",
       "    </tr>\n",
       "    <tr>\n",
       "      <th>2</th>\n",
       "      <td>1.0</td>\n",
       "      <td>67833.339128</td>\n",
       "      <td>126.482992</td>\n",
       "      <td>1.0</td>\n",
       "      <td>0.999946</td>\n",
       "    </tr>\n",
       "    <tr>\n",
       "      <th>3</th>\n",
       "      <td>1.0</td>\n",
       "      <td>62962.266217</td>\n",
       "      <td>128.038121</td>\n",
       "      <td>1.0</td>\n",
       "      <td>0.999949</td>\n",
       "    </tr>\n",
       "    <tr>\n",
       "      <th>4</th>\n",
       "      <td>1.0</td>\n",
       "      <td>58716.952597</td>\n",
       "      <td>126.211980</td>\n",
       "      <td>1.0</td>\n",
       "      <td>0.999988</td>\n",
       "    </tr>\n",
       "  </tbody>\n",
       "</table>\n",
       "</div>"
      ],
      "text/plain": [
       "   female     total_inc         wgt  const  prob_femalehat\n",
       "0     1.0  63642.513655  134.998269    1.0        0.998746\n",
       "1     1.0  49177.380692  134.392957    1.0        0.999899\n",
       "2     1.0  67833.339128  126.482992    1.0        0.999946\n",
       "3     1.0  62962.266217  128.038121    1.0        0.999949\n",
       "4     1.0  58716.952597  126.211980    1.0        0.999988"
      ]
     },
     "execution_count": 15,
     "metadata": {},
     "output_type": "execute_result"
    }
   ],
   "source": [
    "logit_survey['prob_femalehat'] = res.predict(X)\n",
    "logit_survey.head()"
   ]
  },
  {
   "cell_type": "code",
   "execution_count": 16,
   "metadata": {},
   "outputs": [
    {
     "data": {
      "image/png": "[encoded data removed]",
      "text/plain": [
       "<Figure size 432x288 with 1 Axes>"
      ]
     },
     "metadata": {
      "needs_background": "light"
     },
     "output_type": "display_data"
    }
   ],
   "source": [
    "probability_of_being_female = logit_survey['prob_femalehat']\n",
    "total_income = logit_survey['total_inc']\n",
    "logit_survey.plot(x='total_inc', y='prob_femalehat', kind='scatter')\n",
    "plt.show()"
   ]
  },
  {
   "cell_type": "code",
   "execution_count": 17,
   "metadata": {},
   "outputs": [
    {
     "data": {
      "image/png": "[encoded data removed]",
      "text/plain": [
       "<Figure size 432x288 with 1 Axes>"
      ]
     },
     "metadata": {
      "needs_background": "light"
     },
     "output_type": "display_data"
    }
   ],
   "source": [
    "probability_of_being_female = logit_survey['prob_femalehat']\n",
    "weight = logit_survey['wgt']\n",
    "logit_survey.plot(x='wgt', y='prob_femalehat', kind='scatter')\n",
    "plt.show()"
   ]
  },
  {
   "cell_type": "code",
   "execution_count": 18,
   "metadata": {},
   "outputs": [
    {
     "data": {
      "text/html": [
       "<div>\n",
       "<style scoped>\n",
       "    .dataframe tbody tr th:only-of-type {\n",
       "        vertical-align: middle;\n",
       "    }\n",
       "\n",
       "    .dataframe tbody tr th {\n",
       "        vertical-align: top;\n",
       "    }\n",
       "\n",
       "    .dataframe thead th {\n",
       "        text-align: right;\n",
       "    }\n",
       "</style>\n",
       "<table border=\"1\" class=\"dataframe\">\n",
       "  <thead>\n",
       "    <tr style=\"text-align: right;\">\n",
       "      <th></th>\n",
       "      <th>female</th>\n",
       "      <th>total_inc</th>\n",
       "      <th>wgt</th>\n",
       "      <th>const</th>\n",
       "      <th>prob_femalehat</th>\n",
       "      <th>femalehat</th>\n",
       "    </tr>\n",
       "  </thead>\n",
       "  <tbody>\n",
       "    <tr>\n",
       "      <th>0</th>\n",
       "      <td>1.0</td>\n",
       "      <td>63642.513655</td>\n",
       "      <td>134.998269</td>\n",
       "      <td>1.0</td>\n",
       "      <td>0.998746</td>\n",
       "      <td>1</td>\n",
       "    </tr>\n",
       "    <tr>\n",
       "      <th>1</th>\n",
       "      <td>1.0</td>\n",
       "      <td>49177.380692</td>\n",
       "      <td>134.392957</td>\n",
       "      <td>1.0</td>\n",
       "      <td>0.999899</td>\n",
       "      <td>1</td>\n",
       "    </tr>\n",
       "    <tr>\n",
       "      <th>2</th>\n",
       "      <td>1.0</td>\n",
       "      <td>67833.339128</td>\n",
       "      <td>126.482992</td>\n",
       "      <td>1.0</td>\n",
       "      <td>0.999946</td>\n",
       "      <td>1</td>\n",
       "    </tr>\n",
       "    <tr>\n",
       "      <th>3</th>\n",
       "      <td>1.0</td>\n",
       "      <td>62962.266217</td>\n",
       "      <td>128.038121</td>\n",
       "      <td>1.0</td>\n",
       "      <td>0.999949</td>\n",
       "      <td>1</td>\n",
       "    </tr>\n",
       "    <tr>\n",
       "      <th>4</th>\n",
       "      <td>1.0</td>\n",
       "      <td>58716.952597</td>\n",
       "      <td>126.211980</td>\n",
       "      <td>1.0</td>\n",
       "      <td>0.999988</td>\n",
       "      <td>1</td>\n",
       "    </tr>\n",
       "  </tbody>\n",
       "</table>\n",
       "</div>"
      ],
      "text/plain": [
       "   female     total_inc         wgt  const  prob_femalehat  femalehat\n",
       "0     1.0  63642.513655  134.998269    1.0        0.998746          1\n",
       "1     1.0  49177.380692  134.392957    1.0        0.999899          1\n",
       "2     1.0  67833.339128  126.482992    1.0        0.999946          1\n",
       "3     1.0  62962.266217  128.038121    1.0        0.999949          1\n",
       "4     1.0  58716.952597  126.211980    1.0        0.999988          1"
      ]
     },
     "execution_count": 18,
     "metadata": {},
     "output_type": "execute_result"
    }
   ],
   "source": [
    "def prob_female(gender):\n",
    "    '''\n",
    "    fuction to convert probability to dummy variable\n",
    "    '''\n",
    "    if gender > 0.5: \n",
    "        gender = 1\n",
    "    else:\n",
    "        gender = 0\n",
    "    return gender\n",
    "\n",
    "logit_survey['femalehat'] = logit_survey.prob_femalehat.apply(prob_female)\n",
    "logit_survey.head()"
   ]
  },
  {
   "cell_type": "code",
   "execution_count": 19,
   "metadata": {},
   "outputs": [
    {
     "data": {
      "text/html": [
       "<div>\n",
       "<style scoped>\n",
       "    .dataframe tbody tr th:only-of-type {\n",
       "        vertical-align: middle;\n",
       "    }\n",
       "\n",
       "    .dataframe tbody tr th {\n",
       "        vertical-align: top;\n",
       "    }\n",
       "\n",
       "    .dataframe thead th {\n",
       "        text-align: right;\n",
       "    }\n",
       "</style>\n",
       "<table border=\"1\" class=\"dataframe\">\n",
       "  <thead>\n",
       "    <tr style=\"text-align: right;\">\n",
       "      <th></th>\n",
       "      <th>lab_inc</th>\n",
       "      <th>cap_inc</th>\n",
       "      <th>hgt</th>\n",
       "      <th>wgt</th>\n",
       "      <th>tot_inc</th>\n",
       "      <th>imputed_age_by_inc_wgt</th>\n",
       "      <th>imputed_probfemale_by_inc_wgt</th>\n",
       "      <th>imputed_female_by_inc_wgt</th>\n",
       "    </tr>\n",
       "  </thead>\n",
       "  <tbody>\n",
       "    <tr>\n",
       "      <th>0</th>\n",
       "      <td>52655.605507</td>\n",
       "      <td>9279.509829</td>\n",
       "      <td>64.568138</td>\n",
       "      <td>152.920634</td>\n",
       "      <td>61935.115336</td>\n",
       "      <td>44.745897</td>\n",
       "      <td>0.021951</td>\n",
       "      <td>0</td>\n",
       "    </tr>\n",
       "    <tr>\n",
       "      <th>1</th>\n",
       "      <td>70586.979225</td>\n",
       "      <td>9451.016902</td>\n",
       "      <td>65.727648</td>\n",
       "      <td>159.534414</td>\n",
       "      <td>80037.996127</td>\n",
       "      <td>45.157777</td>\n",
       "      <td>0.000031</td>\n",
       "      <td>0</td>\n",
       "    </tr>\n",
       "    <tr>\n",
       "      <th>2</th>\n",
       "      <td>53738.008339</td>\n",
       "      <td>8078.132315</td>\n",
       "      <td>66.268796</td>\n",
       "      <td>152.502405</td>\n",
       "      <td>61816.140654</td>\n",
       "      <td>44.745701</td>\n",
       "      <td>0.026951</td>\n",
       "      <td>0</td>\n",
       "    </tr>\n",
       "    <tr>\n",
       "      <th>3</th>\n",
       "      <td>55128.180903</td>\n",
       "      <td>12692.670403</td>\n",
       "      <td>62.910559</td>\n",
       "      <td>149.218189</td>\n",
       "      <td>67820.851305</td>\n",
       "      <td>44.919024</td>\n",
       "      <td>0.034805</td>\n",
       "      <td>0</td>\n",
       "    </tr>\n",
       "    <tr>\n",
       "      <th>4</th>\n",
       "      <td>44482.794867</td>\n",
       "      <td>9812.975746</td>\n",
       "      <td>68.678295</td>\n",
       "      <td>152.726358</td>\n",
       "      <td>54295.770612</td>\n",
       "      <td>44.554687</td>\n",
       "      <td>0.101359</td>\n",
       "      <td>0</td>\n",
       "    </tr>\n",
       "  </tbody>\n",
       "</table>\n",
       "</div>"
      ],
      "text/plain": [
       "        lab_inc       cap_inc        hgt         wgt       tot_inc  \\\n",
       "0  52655.605507   9279.509829  64.568138  152.920634  61935.115336   \n",
       "1  70586.979225   9451.016902  65.727648  159.534414  80037.996127   \n",
       "2  53738.008339   8078.132315  66.268796  152.502405  61816.140654   \n",
       "3  55128.180903  12692.670403  62.910559  149.218189  67820.851305   \n",
       "4  44482.794867   9812.975746  68.678295  152.726358  54295.770612   \n",
       "\n",
       "   imputed_age_by_inc_wgt  imputed_probfemale_by_inc_wgt  \\\n",
       "0               44.745897                       0.021951   \n",
       "1               45.157777                       0.000031   \n",
       "2               44.745701                       0.026951   \n",
       "3               44.919024                       0.034805   \n",
       "4               44.554687                       0.101359   \n",
       "\n",
       "   imputed_female_by_inc_wgt  \n",
       "0                          0  \n",
       "1                          0  \n",
       "2                          0  \n",
       "3                          0  \n",
       "4                          0  "
      ]
     },
     "execution_count": 19,
     "metadata": {},
     "output_type": "execute_result"
    }
   ],
   "source": [
    "# I will use the following code cells to execute the code that will impute those variables using linear regression model and data in BestIncom.txt.\n",
    "\n",
    "best['imputed_age_by_inc_wgt'] = 44.2097 + 2.52e-05*best.tot_inc \\\n",
    "                                     + (-0.0067)*best.wgt\n",
    "e = math.exp(1)\n",
    "best['imputed_probfemale_by_inc_wgt'] = e**(76.7929+(-0.0002)*best.tot_inc+\\\n",
    " (-0.4460)*best.wgt)/(1+e**(76.7929+(-0.0002)*best.tot_inc+(-0.4460)*best.wgt))\n",
    "best['imputed_female_by_inc_wgt'] = best.imputed_probfemale_by_inc_wgt.\\\n",
    "                                                    apply(prob_female)\n",
    "\n",
    "best.head()"
   ]
  },
  {
   "cell_type": "code",
   "execution_count": 20,
   "metadata": {},
   "outputs": [
    {
     "data": {
      "text/html": [
       "<div>\n",
       "<style scoped>\n",
       "    .dataframe tbody tr th:only-of-type {\n",
       "        vertical-align: middle;\n",
       "    }\n",
       "\n",
       "    .dataframe tbody tr th {\n",
       "        vertical-align: top;\n",
       "    }\n",
       "\n",
       "    .dataframe thead th {\n",
       "        text-align: right;\n",
       "    }\n",
       "</style>\n",
       "<table border=\"1\" class=\"dataframe\">\n",
       "  <thead>\n",
       "    <tr style=\"text-align: right;\">\n",
       "      <th></th>\n",
       "      <th>lab_inc</th>\n",
       "      <th>cap_inc</th>\n",
       "      <th>hgt</th>\n",
       "      <th>wgt</th>\n",
       "      <th>tot_inc</th>\n",
       "      <th>imputed_age_by_inc_wgt</th>\n",
       "      <th>imputed_probfemale_by_inc_wgt</th>\n",
       "      <th>imputed_female_by_inc_wgt</th>\n",
       "    </tr>\n",
       "  </thead>\n",
       "  <tbody>\n",
       "    <tr>\n",
       "      <th>9995</th>\n",
       "      <td>51502.225233</td>\n",
       "      <td>14786.050723</td>\n",
       "      <td>66.781187</td>\n",
       "      <td>154.645212</td>\n",
       "      <td>66288.275956</td>\n",
       "      <td>44.844042</td>\n",
       "      <td>0.004336</td>\n",
       "      <td>0</td>\n",
       "    </tr>\n",
       "    <tr>\n",
       "      <th>9996</th>\n",
       "      <td>52624.117104</td>\n",
       "      <td>11048.811747</td>\n",
       "      <td>64.499036</td>\n",
       "      <td>165.868002</td>\n",
       "      <td>63672.928851</td>\n",
       "      <td>44.702942</td>\n",
       "      <td>0.000049</td>\n",
       "      <td>0</td>\n",
       "    </tr>\n",
       "    <tr>\n",
       "      <th>9997</th>\n",
       "      <td>50725.310645</td>\n",
       "      <td>13195.218100</td>\n",
       "      <td>64.508873</td>\n",
       "      <td>154.657639</td>\n",
       "      <td>63920.528745</td>\n",
       "      <td>44.784291</td>\n",
       "      <td>0.006905</td>\n",
       "      <td>0</td>\n",
       "    </tr>\n",
       "    <tr>\n",
       "      <th>9998</th>\n",
       "      <td>56392.824076</td>\n",
       "      <td>8470.592718</td>\n",
       "      <td>62.161556</td>\n",
       "      <td>145.498194</td>\n",
       "      <td>64863.416794</td>\n",
       "      <td>44.869420</td>\n",
       "      <td>0.255027</td>\n",
       "      <td>0</td>\n",
       "    </tr>\n",
       "    <tr>\n",
       "      <th>9999</th>\n",
       "      <td>44274.098164</td>\n",
       "      <td>12765.748454</td>\n",
       "      <td>64.974145</td>\n",
       "      <td>135.936862</td>\n",
       "      <td>57039.846618</td>\n",
       "      <td>44.736327</td>\n",
       "      <td>0.991483</td>\n",
       "      <td>1</td>\n",
       "    </tr>\n",
       "  </tbody>\n",
       "</table>\n",
       "</div>"
      ],
      "text/plain": [
       "           lab_inc       cap_inc        hgt         wgt       tot_inc  \\\n",
       "9995  51502.225233  14786.050723  66.781187  154.645212  66288.275956   \n",
       "9996  52624.117104  11048.811747  64.499036  165.868002  63672.928851   \n",
       "9997  50725.310645  13195.218100  64.508873  154.657639  63920.528745   \n",
       "9998  56392.824076   8470.592718  62.161556  145.498194  64863.416794   \n",
       "9999  44274.098164  12765.748454  64.974145  135.936862  57039.846618   \n",
       "\n",
       "      imputed_age_by_inc_wgt  imputed_probfemale_by_inc_wgt  \\\n",
       "9995               44.844042                       0.004336   \n",
       "9996               44.702942                       0.000049   \n",
       "9997               44.784291                       0.006905   \n",
       "9998               44.869420                       0.255027   \n",
       "9999               44.736327                       0.991483   \n",
       "\n",
       "      imputed_female_by_inc_wgt  \n",
       "9995                          0  \n",
       "9996                          0  \n",
       "9997                          0  \n",
       "9998                          0  \n",
       "9999                          1  "
      ]
     },
     "execution_count": 20,
     "metadata": {},
     "output_type": "execute_result"
    }
   ],
   "source": [
    "best.tail()"
   ]
  },
  {
   "cell_type": "code",
   "execution_count": 21,
   "metadata": {},
   "outputs": [
    {
     "data": {
      "text/html": [
       "<div>\n",
       "<style scoped>\n",
       "    .dataframe tbody tr th:only-of-type {\n",
       "        vertical-align: middle;\n",
       "    }\n",
       "\n",
       "    .dataframe tbody tr th {\n",
       "        vertical-align: top;\n",
       "    }\n",
       "\n",
       "    .dataframe thead th {\n",
       "        text-align: right;\n",
       "    }\n",
       "</style>\n",
       "<table border=\"1\" class=\"dataframe\">\n",
       "  <thead>\n",
       "    <tr style=\"text-align: right;\">\n",
       "      <th></th>\n",
       "      <th>lab_inc</th>\n",
       "      <th>cap_inc</th>\n",
       "      <th>hgt</th>\n",
       "      <th>wgt</th>\n",
       "      <th>imputed_age_by_inc_wgt</th>\n",
       "      <th>imputed_female_by_inc_wgt</th>\n",
       "    </tr>\n",
       "  </thead>\n",
       "  <tbody>\n",
       "    <tr>\n",
       "      <th>0</th>\n",
       "      <td>52655.605507</td>\n",
       "      <td>9279.509829</td>\n",
       "      <td>64.568138</td>\n",
       "      <td>152.920634</td>\n",
       "      <td>44.745897</td>\n",
       "      <td>0</td>\n",
       "    </tr>\n",
       "    <tr>\n",
       "      <th>1</th>\n",
       "      <td>70586.979225</td>\n",
       "      <td>9451.016902</td>\n",
       "      <td>65.727648</td>\n",
       "      <td>159.534414</td>\n",
       "      <td>45.157777</td>\n",
       "      <td>0</td>\n",
       "    </tr>\n",
       "    <tr>\n",
       "      <th>2</th>\n",
       "      <td>53738.008339</td>\n",
       "      <td>8078.132315</td>\n",
       "      <td>66.268796</td>\n",
       "      <td>152.502405</td>\n",
       "      <td>44.745701</td>\n",
       "      <td>0</td>\n",
       "    </tr>\n",
       "    <tr>\n",
       "      <th>3</th>\n",
       "      <td>55128.180903</td>\n",
       "      <td>12692.670403</td>\n",
       "      <td>62.910559</td>\n",
       "      <td>149.218189</td>\n",
       "      <td>44.919024</td>\n",
       "      <td>0</td>\n",
       "    </tr>\n",
       "    <tr>\n",
       "      <th>4</th>\n",
       "      <td>44482.794867</td>\n",
       "      <td>9812.975746</td>\n",
       "      <td>68.678295</td>\n",
       "      <td>152.726358</td>\n",
       "      <td>44.554687</td>\n",
       "      <td>0</td>\n",
       "    </tr>\n",
       "  </tbody>\n",
       "</table>\n",
       "</div>"
      ],
      "text/plain": [
       "        lab_inc       cap_inc        hgt         wgt  imputed_age_by_inc_wgt  \\\n",
       "0  52655.605507   9279.509829  64.568138  152.920634               44.745897   \n",
       "1  70586.979225   9451.016902  65.727648  159.534414               45.157777   \n",
       "2  53738.008339   8078.132315  66.268796  152.502405               44.745701   \n",
       "3  55128.180903  12692.670403  62.910559  149.218189               44.919024   \n",
       "4  44482.794867   9812.975746  68.678295  152.726358               44.554687   \n",
       "\n",
       "   imputed_female_by_inc_wgt  \n",
       "0                          0  \n",
       "1                          0  \n",
       "2                          0  \n",
       "3                          0  \n",
       "4                          0  "
      ]
     },
     "execution_count": 21,
     "metadata": {},
     "output_type": "execute_result"
    }
   ],
   "source": [
    "BestIncome = best[['lab_inc', 'cap_inc', 'hgt','wgt', 'imputed_age_by_inc_wgt', \\\n",
    "                   'imputed_female_by_inc_wgt']]\n",
    "BestIncome.head()"
   ]
  },
  {
   "cell_type": "markdown",
   "metadata": {},
   "source": [
    "#### (c) Here is where I'll report the descriptive statistics for my new imputed variables."
   ]
  },
  {
   "cell_type": "code",
   "execution_count": 22,
   "metadata": {},
   "outputs": [
    {
     "data": {
      "text/plain": [
       "count    10000.000000\n",
       "mean        44.894036\n",
       "std          0.219066\n",
       "min         43.980016\n",
       "25%         44.747065\n",
       "50%         44.890281\n",
       "75%         45.042239\n",
       "max         45.706849\n",
       "Name: imputed_age_by_inc_wgt, dtype: float64"
      ]
     },
     "execution_count": 22,
     "metadata": {},
     "output_type": "execute_result"
    }
   ],
   "source": [
    "# I will use the following code cells to do so!\n",
    "BestIncome['imputed_age_by_inc_wgt'].describe() "
   ]
  },
  {
   "cell_type": "markdown",
   "metadata": {},
   "source": [
    "For imputed age ($age_{i}$) variable: \n",
    "The mean is  44.894036, the standard deviation is 0.219066, the minimum is 43.980016, the maximum is 45.706849 and number of observations is 10000.  "
   ]
  },
  {
   "cell_type": "code",
   "execution_count": 23,
   "metadata": {},
   "outputs": [
    {
     "data": {
      "text/plain": [
       "count    10000.000000\n",
       "mean         0.229400\n",
       "std          0.420468\n",
       "min          0.000000\n",
       "25%          0.000000\n",
       "50%          0.000000\n",
       "75%          0.000000\n",
       "max          1.000000\n",
       "Name: imputed_female_by_inc_wgt, dtype: float64"
      ]
     },
     "execution_count": 23,
     "metadata": {},
     "output_type": "execute_result"
    }
   ],
   "source": [
    "BestIncome['imputed_female_by_inc_wgt'].describe() "
   ]
  },
  {
   "cell_type": "markdown",
   "metadata": {},
   "source": [
    "For imputed gender ($female_{i}$) variable:\n",
    "The mean is  0.229400, the standard deviation is 0.420468, the minimum is 0, the maximum is 1 and number of observations is 10000.  "
   ]
  },
  {
   "cell_type": "markdown",
   "metadata": {},
   "source": [
    "#### (d) Correlation matrix for the now six variables"
   ]
  },
  {
   "cell_type": "code",
   "execution_count": 24,
   "metadata": {},
   "outputs": [
    {
     "data": {
      "image/png": "[encoded data removed]",
      "text/plain": [
       "<Figure size 432x288 with 2 Axes>"
      ]
     },
     "metadata": {
      "needs_background": "light"
     },
     "output_type": "display_data"
    }
   ],
   "source": [
    "# Correlation matrix code and output\n",
    "def corr_plot(BestIncome):\n",
    "    names = BestIncome.columns\n",
    "    N = len(names)\n",
    "    \n",
    "    correlations = BestIncome.corr()\n",
    "    fig = plt.figure()\n",
    "    ax = fig.add_subplot(111)\n",
    "    cax = ax.matshow(correlations, vmin=-1, vmax=1)\n",
    "    fig.colorbar(cax)\n",
    "    ticks = np.arange(0,N,1)\n",
    "    ax.set_xticks(ticks)\n",
    "    ax.set_yticks(ticks)\n",
    "    ax.set_xticklabels(names)\n",
    "    ax.set_yticklabels(names)\n",
    "    plt.show()\n",
    "    \n",
    "corr_plot(BestIncome)"
   ]
  },
  {
   "cell_type": "code",
   "execution_count": 25,
   "metadata": {},
   "outputs": [
    {
     "data": {
      "text/html": [
       "<style  type=\"text/css\" >\n",
       "    #T_b3702c88_d19d_11e8_a61a_80e65015a72arow0_col0 {\n",
       "            background-color:  #023858;\n",
       "        }    #T_b3702c88_d19d_11e8_a61a_80e65015a72arow0_col1 {\n",
       "            background-color:  #f5eff6;\n",
       "        }    #T_b3702c88_d19d_11e8_a61a_80e65015a72arow0_col2 {\n",
       "            background-color:  #eee8f3;\n",
       "        }    #T_b3702c88_d19d_11e8_a61a_80e65015a72arow0_col3 {\n",
       "            background-color:  #9ab8d8;\n",
       "        }    #T_b3702c88_d19d_11e8_a61a_80e65015a72arow0_col4 {\n",
       "            background-color:  #03476f;\n",
       "        }    #T_b3702c88_d19d_11e8_a61a_80e65015a72arow0_col5 {\n",
       "            background-color:  #ced0e6;\n",
       "        }    #T_b3702c88_d19d_11e8_a61a_80e65015a72arow1_col0 {\n",
       "            background-color:  #dbdaeb;\n",
       "        }    #T_b3702c88_d19d_11e8_a61a_80e65015a72arow1_col1 {\n",
       "            background-color:  #023858;\n",
       "        }    #T_b3702c88_d19d_11e8_a61a_80e65015a72arow1_col2 {\n",
       "            background-color:  #eae6f1;\n",
       "        }    #T_b3702c88_d19d_11e8_a61a_80e65015a72arow1_col3 {\n",
       "            background-color:  #9ab8d8;\n",
       "        }    #T_b3702c88_d19d_11e8_a61a_80e65015a72arow1_col4 {\n",
       "            background-color:  #97b7d7;\n",
       "        }    #T_b3702c88_d19d_11e8_a61a_80e65015a72arow1_col5 {\n",
       "            background-color:  #a9bfdc;\n",
       "        }    #T_b3702c88_d19d_11e8_a61a_80e65015a72arow2_col0 {\n",
       "            background-color:  #dbdaeb;\n",
       "        }    #T_b3702c88_d19d_11e8_a61a_80e65015a72arow2_col1 {\n",
       "            background-color:  #f3edf5;\n",
       "        }    #T_b3702c88_d19d_11e8_a61a_80e65015a72arow2_col2 {\n",
       "            background-color:  #023858;\n",
       "        }    #T_b3702c88_d19d_11e8_a61a_80e65015a72arow2_col3 {\n",
       "            background-color:  #71a8ce;\n",
       "        }    #T_b3702c88_d19d_11e8_a61a_80e65015a72arow2_col4 {\n",
       "            background-color:  #dcdaeb;\n",
       "        }    #T_b3702c88_d19d_11e8_a61a_80e65015a72arow2_col5 {\n",
       "            background-color:  #b7c5df;\n",
       "        }    #T_b3702c88_d19d_11e8_a61a_80e65015a72arow3_col0 {\n",
       "            background-color:  #dbdaeb;\n",
       "        }    #T_b3702c88_d19d_11e8_a61a_80e65015a72arow3_col1 {\n",
       "            background-color:  #f5eef6;\n",
       "        }    #T_b3702c88_d19d_11e8_a61a_80e65015a72arow3_col2 {\n",
       "            background-color:  #cacee5;\n",
       "        }    #T_b3702c88_d19d_11e8_a61a_80e65015a72arow3_col3 {\n",
       "            background-color:  #023858;\n",
       "        }    #T_b3702c88_d19d_11e8_a61a_80e65015a72arow3_col4 {\n",
       "            background-color:  #fff7fb;\n",
       "        }    #T_b3702c88_d19d_11e8_a61a_80e65015a72arow3_col5 {\n",
       "            background-color:  #fff7fb;\n",
       "        }    #T_b3702c88_d19d_11e8_a61a_80e65015a72arow4_col0 {\n",
       "            background-color:  #034871;\n",
       "        }    #T_b3702c88_d19d_11e8_a61a_80e65015a72arow4_col1 {\n",
       "            background-color:  #c6cce3;\n",
       "        }    #T_b3702c88_d19d_11e8_a61a_80e65015a72arow4_col2 {\n",
       "            background-color:  #f4edf6;\n",
       "        }    #T_b3702c88_d19d_11e8_a61a_80e65015a72arow4_col3 {\n",
       "            background-color:  #d6d6e9;\n",
       "        }    #T_b3702c88_d19d_11e8_a61a_80e65015a72arow4_col4 {\n",
       "            background-color:  #023858;\n",
       "        }    #T_b3702c88_d19d_11e8_a61a_80e65015a72arow4_col5 {\n",
       "            background-color:  #a4bcda;\n",
       "        }    #T_b3702c88_d19d_11e8_a61a_80e65015a72arow5_col0 {\n",
       "            background-color:  #fff7fb;\n",
       "        }    #T_b3702c88_d19d_11e8_a61a_80e65015a72arow5_col1 {\n",
       "            background-color:  #fff7fb;\n",
       "        }    #T_b3702c88_d19d_11e8_a61a_80e65015a72arow5_col2 {\n",
       "            background-color:  #fff7fb;\n",
       "        }    #T_b3702c88_d19d_11e8_a61a_80e65015a72arow5_col3 {\n",
       "            background-color:  #fff7fb;\n",
       "        }    #T_b3702c88_d19d_11e8_a61a_80e65015a72arow5_col4 {\n",
       "            background-color:  #dbdaeb;\n",
       "        }    #T_b3702c88_d19d_11e8_a61a_80e65015a72arow5_col5 {\n",
       "            background-color:  #023858;\n",
       "        }</style>  \n",
       "<table id=\"T_b3702c88_d19d_11e8_a61a_80e65015a72a\" > \n",
       "<thead>    <tr> \n",
       "        <th class=\"blank level0\" ></th> \n",
       "        <th class=\"col_heading level0 col0\" >lab_inc</th> \n",
       "        <th class=\"col_heading level0 col1\" >cap_inc</th> \n",
       "        <th class=\"col_heading level0 col2\" >hgt</th> \n",
       "        <th class=\"col_heading level0 col3\" >wgt</th> \n",
       "        <th class=\"col_heading level0 col4\" >imputed_age_by_inc_wgt</th> \n",
       "        <th class=\"col_heading level0 col5\" >imputed_female_by_inc_wgt</th> \n",
       "    </tr></thead> \n",
       "<tbody>    <tr> \n",
       "        <th id=\"T_b3702c88_d19d_11e8_a61a_80e65015a72alevel0_row0\" class=\"row_heading level0 row0\" >lab_inc</th> \n",
       "        <td id=\"T_b3702c88_d19d_11e8_a61a_80e65015a72arow0_col0\" class=\"data row0 col0\" >1</td> \n",
       "        <td id=\"T_b3702c88_d19d_11e8_a61a_80e65015a72arow0_col1\" class=\"data row0 col1\" >0.0053253</td> \n",
       "        <td id=\"T_b3702c88_d19d_11e8_a61a_80e65015a72arow0_col2\" class=\"data row0 col2\" >0.00278978</td> \n",
       "        <td id=\"T_b3702c88_d19d_11e8_a61a_80e65015a72arow0_col3\" class=\"data row0 col3\" >0.00450691</td> \n",
       "        <td id=\"T_b3702c88_d19d_11e8_a61a_80e65015a72arow0_col4\" class=\"data row0 col4\" >0.924329</td> \n",
       "        <td id=\"T_b3702c88_d19d_11e8_a61a_80e65015a72arow0_col5\" class=\"data row0 col5\" >-0.245495</td> \n",
       "    </tr>    <tr> \n",
       "        <th id=\"T_b3702c88_d19d_11e8_a61a_80e65015a72alevel0_row1\" class=\"row_heading level0 row1\" >cap_inc</th> \n",
       "        <td id=\"T_b3702c88_d19d_11e8_a61a_80e65015a72arow1_col0\" class=\"data row1 col0\" >0.0053253</td> \n",
       "        <td id=\"T_b3702c88_d19d_11e8_a61a_80e65015a72arow1_col1\" class=\"data row1 col1\" >1</td> \n",
       "        <td id=\"T_b3702c88_d19d_11e8_a61a_80e65015a72arow1_col2\" class=\"data row1 col2\" >0.0215716</td> \n",
       "        <td id=\"T_b3702c88_d19d_11e8_a61a_80e65015a72arow1_col3\" class=\"data row1 col3\" >0.00629868</td> \n",
       "        <td id=\"T_b3702c88_d19d_11e8_a61a_80e65015a72arow1_col4\" class=\"data row1 col4\" >0.234234</td> \n",
       "        <td id=\"T_b3702c88_d19d_11e8_a61a_80e65015a72arow1_col5\" class=\"data row1 col5\" >-0.0644033</td> \n",
       "    </tr>    <tr> \n",
       "        <th id=\"T_b3702c88_d19d_11e8_a61a_80e65015a72alevel0_row2\" class=\"row_heading level0 row2\" >hgt</th> \n",
       "        <td id=\"T_b3702c88_d19d_11e8_a61a_80e65015a72arow2_col0\" class=\"data row2 col0\" >0.00278978</td> \n",
       "        <td id=\"T_b3702c88_d19d_11e8_a61a_80e65015a72arow2_col1\" class=\"data row2 col1\" >0.0215716</td> \n",
       "        <td id=\"T_b3702c88_d19d_11e8_a61a_80e65015a72arow2_col2\" class=\"data row2 col2\" >1</td> \n",
       "        <td id=\"T_b3702c88_d19d_11e8_a61a_80e65015a72arow2_col3\" class=\"data row2 col3\" >0.172103</td> \n",
       "        <td id=\"T_b3702c88_d19d_11e8_a61a_80e65015a72arow2_col4\" class=\"data row2 col4\" >-0.0449272</td> \n",
       "        <td id=\"T_b3702c88_d19d_11e8_a61a_80e65015a72arow2_col5\" class=\"data row2 col5\" >-0.128783</td> \n",
       "    </tr>    <tr> \n",
       "        <th id=\"T_b3702c88_d19d_11e8_a61a_80e65015a72alevel0_row3\" class=\"row_heading level0 row3\" >wgt</th> \n",
       "        <td id=\"T_b3702c88_d19d_11e8_a61a_80e65015a72arow3_col0\" class=\"data row3 col0\" >0.00450691</td> \n",
       "        <td id=\"T_b3702c88_d19d_11e8_a61a_80e65015a72arow3_col1\" class=\"data row3 col1\" >0.00629868</td> \n",
       "        <td id=\"T_b3702c88_d19d_11e8_a61a_80e65015a72arow3_col2\" class=\"data row3 col2\" >0.172103</td> \n",
       "        <td id=\"T_b3702c88_d19d_11e8_a61a_80e65015a72arow3_col3\" class=\"data row3 col3\" >1</td> \n",
       "        <td id=\"T_b3702c88_d19d_11e8_a61a_80e65015a72arow3_col4\" class=\"data row3 col4\" >-0.299395</td> \n",
       "        <td id=\"T_b3702c88_d19d_11e8_a61a_80e65015a72arow3_col5\" class=\"data row3 col5\" >-0.672904</td> \n",
       "    </tr>    <tr> \n",
       "        <th id=\"T_b3702c88_d19d_11e8_a61a_80e65015a72alevel0_row4\" class=\"row_heading level0 row4\" >imputed_age_by_inc_wgt</th> \n",
       "        <td id=\"T_b3702c88_d19d_11e8_a61a_80e65015a72arow4_col0\" class=\"data row4 col0\" >0.924329</td> \n",
       "        <td id=\"T_b3702c88_d19d_11e8_a61a_80e65015a72arow4_col1\" class=\"data row4 col1\" >0.234234</td> \n",
       "        <td id=\"T_b3702c88_d19d_11e8_a61a_80e65015a72arow4_col2\" class=\"data row4 col2\" >-0.0449272</td> \n",
       "        <td id=\"T_b3702c88_d19d_11e8_a61a_80e65015a72arow4_col3\" class=\"data row4 col3\" >-0.299395</td> \n",
       "        <td id=\"T_b3702c88_d19d_11e8_a61a_80e65015a72arow4_col4\" class=\"data row4 col4\" >1</td> \n",
       "        <td id=\"T_b3702c88_d19d_11e8_a61a_80e65015a72arow4_col5\" class=\"data row4 col5\" >-0.0365975</td> \n",
       "    </tr>    <tr> \n",
       "        <th id=\"T_b3702c88_d19d_11e8_a61a_80e65015a72alevel0_row5\" class=\"row_heading level0 row5\" >imputed_female_by_inc_wgt</th> \n",
       "        <td id=\"T_b3702c88_d19d_11e8_a61a_80e65015a72arow5_col0\" class=\"data row5 col0\" >-0.245495</td> \n",
       "        <td id=\"T_b3702c88_d19d_11e8_a61a_80e65015a72arow5_col1\" class=\"data row5 col1\" >-0.0644033</td> \n",
       "        <td id=\"T_b3702c88_d19d_11e8_a61a_80e65015a72arow5_col2\" class=\"data row5 col2\" >-0.128783</td> \n",
       "        <td id=\"T_b3702c88_d19d_11e8_a61a_80e65015a72arow5_col3\" class=\"data row5 col3\" >-0.672904</td> \n",
       "        <td id=\"T_b3702c88_d19d_11e8_a61a_80e65015a72arow5_col4\" class=\"data row5 col4\" >-0.0365975</td> \n",
       "        <td id=\"T_b3702c88_d19d_11e8_a61a_80e65015a72arow5_col5\" class=\"data row5 col5\" >1</td> \n",
       "    </tr></tbody> \n",
       "</table> "
      ],
      "text/plain": [
       "<pandas.io.formats.style.Styler at 0x1c1efd50f0>"
      ]
     },
     "execution_count": 25,
     "metadata": {},
     "output_type": "execute_result"
    }
   ],
   "source": [
    "#In Matrix Form\n",
    "corr = BestIncome.corr()\n",
    "corr.style.background_gradient()"
   ]
  },
  {
   "cell_type": "markdown",
   "metadata": {},
   "source": [
    "### 2. Stationarity and data drift"
   ]
  },
  {
   "cell_type": "markdown",
   "metadata": {},
   "source": [
    "#### (a) Estimate by OLS and report coefficients"
   ]
  },
  {
   "cell_type": "code",
   "execution_count": 26,
   "metadata": {},
   "outputs": [
    {
     "data": {
      "text/html": [
       "<div>\n",
       "<style scoped>\n",
       "    .dataframe tbody tr th:only-of-type {\n",
       "        vertical-align: middle;\n",
       "    }\n",
       "\n",
       "    .dataframe tbody tr th {\n",
       "        vertical-align: top;\n",
       "    }\n",
       "\n",
       "    .dataframe thead th {\n",
       "        text-align: right;\n",
       "    }\n",
       "</style>\n",
       "<table border=\"1\" class=\"dataframe\">\n",
       "  <thead>\n",
       "    <tr style=\"text-align: right;\">\n",
       "      <th></th>\n",
       "      <th>grad_year</th>\n",
       "      <th>gre_qnt</th>\n",
       "      <th>salary_p4</th>\n",
       "    </tr>\n",
       "  </thead>\n",
       "  <tbody>\n",
       "    <tr>\n",
       "      <th>0</th>\n",
       "      <td>2001.0</td>\n",
       "      <td>739.737072</td>\n",
       "      <td>67400.475185</td>\n",
       "    </tr>\n",
       "    <tr>\n",
       "      <th>1</th>\n",
       "      <td>2001.0</td>\n",
       "      <td>721.811673</td>\n",
       "      <td>67600.584142</td>\n",
       "    </tr>\n",
       "    <tr>\n",
       "      <th>2</th>\n",
       "      <td>2001.0</td>\n",
       "      <td>736.277908</td>\n",
       "      <td>58704.880589</td>\n",
       "    </tr>\n",
       "    <tr>\n",
       "      <th>3</th>\n",
       "      <td>2001.0</td>\n",
       "      <td>770.498485</td>\n",
       "      <td>64707.290345</td>\n",
       "    </tr>\n",
       "    <tr>\n",
       "      <th>4</th>\n",
       "      <td>2001.0</td>\n",
       "      <td>735.002861</td>\n",
       "      <td>51737.324165</td>\n",
       "    </tr>\n",
       "  </tbody>\n",
       "</table>\n",
       "</div>"
      ],
      "text/plain": [
       "   grad_year     gre_qnt     salary_p4\n",
       "0     2001.0  739.737072  67400.475185\n",
       "1     2001.0  721.811673  67600.584142\n",
       "2     2001.0  736.277908  58704.880589\n",
       "3     2001.0  770.498485  64707.290345\n",
       "4     2001.0  735.002861  51737.324165"
      ]
     },
     "execution_count": 26,
     "metadata": {},
     "output_type": "execute_result"
    }
   ],
   "source": [
    "# Read in my third data set\n",
    "income_intel_raw =  \"IncomeIntel.txt\"\n",
    "income = pd.read_table(income_intel_raw, sep=\",\", header=None)\n",
    "\n",
    "# Name my variables\n",
    "income_cols = [ 'grad_year', 'gre_qnt', 'salary_p4']\n",
    "income.columns = income_cols\n",
    "income.head()"
   ]
  },
  {
   "cell_type": "code",
   "execution_count": 27,
   "metadata": {},
   "outputs": [
    {
     "name": "stdout",
     "output_type": "stream",
     "text": [
      "                            OLS Regression Results                            \n",
      "==============================================================================\n",
      "Dep. Variable:              salary_p4   R-squared:                       0.263\n",
      "Model:                            OLS   Adj. R-squared:                  0.262\n",
      "Method:                 Least Squares   F-statistic:                     356.3\n",
      "Date:                Tue, 16 Oct 2018   Prob (F-statistic):           3.43e-68\n",
      "Time:                        18:46:30   Log-Likelihood:                -10673.\n",
      "No. Observations:                1000   AIC:                         2.135e+04\n",
      "Df Residuals:                     998   BIC:                         2.136e+04\n",
      "Df Model:                           1                                         \n",
      "Covariance Type:            nonrobust                                         \n",
      "==============================================================================\n",
      "                 coef    std err          t      P>|t|      [0.025      0.975]\n",
      "------------------------------------------------------------------------------\n",
      "gre_qnt      -25.7632      1.365    -18.875      0.000     -28.442     -23.085\n",
      "const       8.954e+04    878.764    101.895      0.000    8.78e+04    9.13e+04\n",
      "==============================================================================\n",
      "Omnibus:                        9.118   Durbin-Watson:                   1.424\n",
      "Prob(Omnibus):                  0.010   Jarque-Bera (JB):                9.100\n",
      "Skew:                           0.230   Prob(JB):                       0.0106\n",
      "Kurtosis:                       3.077   Cond. No.                     1.71e+03\n",
      "==============================================================================\n",
      "\n",
      "Warnings:\n",
      "[1] Standard Errors assume that the covariance matrix of the errors is correctly specified.\n",
      "[2] The condition number is large, 1.71e+03. This might indicate that there are\n",
      "strong multicollinearity or other numerical problems.\n"
     ]
    }
   ],
   "source": [
    "# Run regression model\n",
    "outcome = ['salary_p4']\n",
    "features =  ['gre_qnt']\n",
    "X, y = income[features], income[outcome]\n",
    "\n",
    "X = sm.add_constant(X, prepend=False)\n",
    "\n",
    "m = sm.OLS(y, X)\n",
    "res = m.fit()\n",
    "print(res.summary())"
   ]
  },
  {
   "cell_type": "markdown",
   "metadata": {},
   "source": [
    "#### #Report coefficients and SE's\n",
    "Estimated coefficient $\\beta_{0}$ is 8.954e+04, standard errors of $\\beta_{0}$ is 878.764, estimated coefficient $\\beta_{1}$ is (-25.7632) , standard errors of $\\beta_{1}$ is 1.365."
   ]
  },
  {
   "cell_type": "markdown",
   "metadata": {},
   "source": [
    "#### (b) Create a scatterplot of GRE score and graduation year. "
   ]
  },
  {
   "cell_type": "code",
   "execution_count": 28,
   "metadata": {},
   "outputs": [
    {
     "data": {
      "image/png": "[encoded data removed]",
      "text/plain": [
       "<Figure size 432x288 with 1 Axes>"
      ]
     },
     "metadata": {
      "needs_background": "light"
     },
     "output_type": "display_data"
    }
   ],
   "source": [
    "# Code and output of scatterplot\n",
    "grad_year = income['grad_year']\n",
    "gre_qnt = income['gre_qnt']\n",
    "income.plot(x='grad_year', y='gre_qnt', kind='scatter')\n",
    "plt.show()"
   ]
  },
  {
   "cell_type": "markdown",
   "metadata": {},
   "source": [
    "Here is where I'll discuss any problems that jump out. I'll propose a solution here as well."
   ]
  },
  {
   "cell_type": "markdown",
   "metadata": {},
   "source": [
    "Problems: Compared data before 2011 and data after 2011, we can see that the GRE quatitative score changed a lot. In other words, the data of GRE quantitative score are drifting because scoring scale changed in 2011. Because the data of GRE quatitative score are not stationary, it can cause problems when using the ordinary least squares regression model and thus the estimated coefficients are not reliable. \n",
    "\n",
    "Solution: We know that the GRE quantitative scoring scale is 800 before 2011 and is 170 after 2011, so we can change the data scale after 2011, which means changing the raw score in scale 170 to relative score in scale of 800 using equation (relative_score=raw_score*800/170). In this way, the the GRE quantitative scoring scale is same before 2011 and after 2011."
   ]
  },
  {
   "cell_type": "code",
   "execution_count": 29,
   "metadata": {},
   "outputs": [
    {
     "data": {
      "text/html": [
       "<div>\n",
       "<style scoped>\n",
       "    .dataframe tbody tr th:only-of-type {\n",
       "        vertical-align: middle;\n",
       "    }\n",
       "\n",
       "    .dataframe tbody tr th {\n",
       "        vertical-align: top;\n",
       "    }\n",
       "\n",
       "    .dataframe thead th {\n",
       "        text-align: right;\n",
       "    }\n",
       "</style>\n",
       "<table border=\"1\" class=\"dataframe\">\n",
       "  <thead>\n",
       "    <tr style=\"text-align: right;\">\n",
       "      <th></th>\n",
       "      <th>grad_year</th>\n",
       "      <th>gre_qnt</th>\n",
       "      <th>salary_p4</th>\n",
       "    </tr>\n",
       "  </thead>\n",
       "  <tbody>\n",
       "    <tr>\n",
       "      <th>770</th>\n",
       "      <td>2011.0</td>\n",
       "      <td>148.413532</td>\n",
       "      <td>90834.606478</td>\n",
       "    </tr>\n",
       "    <tr>\n",
       "      <th>771</th>\n",
       "      <td>2011.0</td>\n",
       "      <td>154.123690</td>\n",
       "      <td>87255.408421</td>\n",
       "    </tr>\n",
       "    <tr>\n",
       "      <th>772</th>\n",
       "      <td>2011.0</td>\n",
       "      <td>155.493697</td>\n",
       "      <td>76069.366122</td>\n",
       "    </tr>\n",
       "    <tr>\n",
       "      <th>773</th>\n",
       "      <td>2011.0</td>\n",
       "      <td>152.551097</td>\n",
       "      <td>92160.481069</td>\n",
       "    </tr>\n",
       "    <tr>\n",
       "      <th>774</th>\n",
       "      <td>2011.0</td>\n",
       "      <td>156.142446</td>\n",
       "      <td>78490.139535</td>\n",
       "    </tr>\n",
       "  </tbody>\n",
       "</table>\n",
       "</div>"
      ],
      "text/plain": [
       "     grad_year     gre_qnt     salary_p4\n",
       "770     2011.0  148.413532  90834.606478\n",
       "771     2011.0  154.123690  87255.408421\n",
       "772     2011.0  155.493697  76069.366122\n",
       "773     2011.0  152.551097  92160.481069\n",
       "774     2011.0  156.142446  78490.139535"
      ]
     },
     "execution_count": 29,
     "metadata": {},
     "output_type": "execute_result"
    }
   ],
   "source": [
    "# Code to implement solution\n",
    "income_aft2011 = income[income.grad_year >= 2011]\n",
    "income_aft2011.head()"
   ]
  },
  {
   "cell_type": "code",
   "execution_count": 30,
   "metadata": {},
   "outputs": [
    {
     "data": {
      "text/plain": [
       "count    230.000000\n",
       "mean     154.894160\n",
       "std        5.197198\n",
       "min      141.261398\n",
       "25%      151.293028\n",
       "50%      154.626456\n",
       "75%      158.185442\n",
       "max      170.000000\n",
       "Name: gre_qnt, dtype: float64"
      ]
     },
     "execution_count": 30,
     "metadata": {},
     "output_type": "execute_result"
    }
   ],
   "source": [
    "income_aft2011['gre_qnt'].describe() "
   ]
  },
  {
   "cell_type": "code",
   "execution_count": 31,
   "metadata": {},
   "outputs": [
    {
     "data": {
      "text/html": [
       "<div>\n",
       "<style scoped>\n",
       "    .dataframe tbody tr th:only-of-type {\n",
       "        vertical-align: middle;\n",
       "    }\n",
       "\n",
       "    .dataframe tbody tr th {\n",
       "        vertical-align: top;\n",
       "    }\n",
       "\n",
       "    .dataframe thead th {\n",
       "        text-align: right;\n",
       "    }\n",
       "</style>\n",
       "<table border=\"1\" class=\"dataframe\">\n",
       "  <thead>\n",
       "    <tr style=\"text-align: right;\">\n",
       "      <th></th>\n",
       "      <th>grad_year</th>\n",
       "      <th>gre_qnt</th>\n",
       "      <th>salary_p4</th>\n",
       "      <th>gre_qnt_modified</th>\n",
       "    </tr>\n",
       "  </thead>\n",
       "  <tbody>\n",
       "    <tr>\n",
       "      <th>770</th>\n",
       "      <td>2011.0</td>\n",
       "      <td>148.413532</td>\n",
       "      <td>90834.606478</td>\n",
       "      <td>698.416619</td>\n",
       "    </tr>\n",
       "    <tr>\n",
       "      <th>771</th>\n",
       "      <td>2011.0</td>\n",
       "      <td>154.123690</td>\n",
       "      <td>87255.408421</td>\n",
       "      <td>725.287951</td>\n",
       "    </tr>\n",
       "    <tr>\n",
       "      <th>772</th>\n",
       "      <td>2011.0</td>\n",
       "      <td>155.493697</td>\n",
       "      <td>76069.366122</td>\n",
       "      <td>731.735044</td>\n",
       "    </tr>\n",
       "    <tr>\n",
       "      <th>773</th>\n",
       "      <td>2011.0</td>\n",
       "      <td>152.551097</td>\n",
       "      <td>92160.481069</td>\n",
       "      <td>717.887515</td>\n",
       "    </tr>\n",
       "    <tr>\n",
       "      <th>774</th>\n",
       "      <td>2011.0</td>\n",
       "      <td>156.142446</td>\n",
       "      <td>78490.139535</td>\n",
       "      <td>734.787980</td>\n",
       "    </tr>\n",
       "  </tbody>\n",
       "</table>\n",
       "</div>"
      ],
      "text/plain": [
       "     grad_year     gre_qnt     salary_p4  gre_qnt_modified\n",
       "770     2011.0  148.413532  90834.606478        698.416619\n",
       "771     2011.0  154.123690  87255.408421        725.287951\n",
       "772     2011.0  155.493697  76069.366122        731.735044\n",
       "773     2011.0  152.551097  92160.481069        717.887515\n",
       "774     2011.0  156.142446  78490.139535        734.787980"
      ]
     },
     "execution_count": 31,
     "metadata": {},
     "output_type": "execute_result"
    }
   ],
   "source": [
    "def gre_qnt_modified(gre_qnt):\n",
    "    \"\"\"\n",
    "    function to convert GRE quantitative raw score to relative score.\n",
    "    \"\"\"\n",
    "    gre_qnt_modified = (gre_qnt*800)/170\n",
    "    return gre_qnt_modified\n",
    "\n",
    "income_aft2011['gre_qnt_modified'] = income_aft2011.gre_qnt.apply(gre_qnt_modified)\n",
    "income_aft2011.head()"
   ]
  },
  {
   "cell_type": "code",
   "execution_count": 32,
   "metadata": {},
   "outputs": [
    {
     "data": {
      "text/plain": [
       "count    230.000000\n",
       "mean     728.913694\n",
       "std       24.457401\n",
       "min      664.759519\n",
       "25%      711.967192\n",
       "50%      727.653911\n",
       "75%      744.402079\n",
       "max      800.000000\n",
       "Name: gre_qnt_modified, dtype: float64"
      ]
     },
     "execution_count": 32,
     "metadata": {},
     "output_type": "execute_result"
    }
   ],
   "source": [
    "income_aft2011['gre_qnt_modified'].describe() "
   ]
  },
  {
   "cell_type": "code",
   "execution_count": 33,
   "metadata": {},
   "outputs": [
    {
     "data": {
      "text/html": [
       "<div>\n",
       "<style scoped>\n",
       "    .dataframe tbody tr th:only-of-type {\n",
       "        vertical-align: middle;\n",
       "    }\n",
       "\n",
       "    .dataframe tbody tr th {\n",
       "        vertical-align: top;\n",
       "    }\n",
       "\n",
       "    .dataframe thead th {\n",
       "        text-align: right;\n",
       "    }\n",
       "</style>\n",
       "<table border=\"1\" class=\"dataframe\">\n",
       "  <thead>\n",
       "    <tr style=\"text-align: right;\">\n",
       "      <th></th>\n",
       "      <th>grad_year</th>\n",
       "      <th>gre_qnt</th>\n",
       "      <th>salary_p4</th>\n",
       "    </tr>\n",
       "  </thead>\n",
       "  <tbody>\n",
       "    <tr>\n",
       "      <th>0</th>\n",
       "      <td>2001.0</td>\n",
       "      <td>739.737072</td>\n",
       "      <td>67400.475185</td>\n",
       "    </tr>\n",
       "    <tr>\n",
       "      <th>1</th>\n",
       "      <td>2001.0</td>\n",
       "      <td>721.811673</td>\n",
       "      <td>67600.584142</td>\n",
       "    </tr>\n",
       "    <tr>\n",
       "      <th>2</th>\n",
       "      <td>2001.0</td>\n",
       "      <td>736.277908</td>\n",
       "      <td>58704.880589</td>\n",
       "    </tr>\n",
       "    <tr>\n",
       "      <th>3</th>\n",
       "      <td>2001.0</td>\n",
       "      <td>770.498485</td>\n",
       "      <td>64707.290345</td>\n",
       "    </tr>\n",
       "    <tr>\n",
       "      <th>4</th>\n",
       "      <td>2001.0</td>\n",
       "      <td>735.002861</td>\n",
       "      <td>51737.324165</td>\n",
       "    </tr>\n",
       "  </tbody>\n",
       "</table>\n",
       "</div>"
      ],
      "text/plain": [
       "   grad_year     gre_qnt     salary_p4\n",
       "0     2001.0  739.737072  67400.475185\n",
       "1     2001.0  721.811673  67600.584142\n",
       "2     2001.0  736.277908  58704.880589\n",
       "3     2001.0  770.498485  64707.290345\n",
       "4     2001.0  735.002861  51737.324165"
      ]
     },
     "execution_count": 33,
     "metadata": {},
     "output_type": "execute_result"
    }
   ],
   "source": [
    "income_bf2011 = income[income.grad_year < 2011]\n",
    "income_bf2011.head()"
   ]
  },
  {
   "cell_type": "code",
   "execution_count": 34,
   "metadata": {},
   "outputs": [
    {
     "data": {
      "text/plain": [
       "count    770.000000\n",
       "mean     728.421378\n",
       "std       23.377864\n",
       "min      655.702537\n",
       "25%      712.768894\n",
       "50%      727.992935\n",
       "75%      744.340352\n",
       "max      799.715533\n",
       "Name: gre_qnt, dtype: float64"
      ]
     },
     "execution_count": 34,
     "metadata": {},
     "output_type": "execute_result"
    }
   ],
   "source": [
    "income_bf2011['gre_qnt'].describe() "
   ]
  },
  {
   "cell_type": "code",
   "execution_count": 35,
   "metadata": {},
   "outputs": [
    {
     "data": {
      "text/html": [
       "<div>\n",
       "<style scoped>\n",
       "    .dataframe tbody tr th:only-of-type {\n",
       "        vertical-align: middle;\n",
       "    }\n",
       "\n",
       "    .dataframe tbody tr th {\n",
       "        vertical-align: top;\n",
       "    }\n",
       "\n",
       "    .dataframe thead th {\n",
       "        text-align: right;\n",
       "    }\n",
       "</style>\n",
       "<table border=\"1\" class=\"dataframe\">\n",
       "  <thead>\n",
       "    <tr style=\"text-align: right;\">\n",
       "      <th></th>\n",
       "      <th>grad_year</th>\n",
       "      <th>gre_qnt</th>\n",
       "      <th>salary_p4</th>\n",
       "      <th>gre_qnt_modified</th>\n",
       "    </tr>\n",
       "  </thead>\n",
       "  <tbody>\n",
       "    <tr>\n",
       "      <th>0</th>\n",
       "      <td>2001.0</td>\n",
       "      <td>739.737072</td>\n",
       "      <td>67400.475185</td>\n",
       "      <td>739.737072</td>\n",
       "    </tr>\n",
       "    <tr>\n",
       "      <th>1</th>\n",
       "      <td>2001.0</td>\n",
       "      <td>721.811673</td>\n",
       "      <td>67600.584142</td>\n",
       "      <td>721.811673</td>\n",
       "    </tr>\n",
       "    <tr>\n",
       "      <th>2</th>\n",
       "      <td>2001.0</td>\n",
       "      <td>736.277908</td>\n",
       "      <td>58704.880589</td>\n",
       "      <td>736.277908</td>\n",
       "    </tr>\n",
       "    <tr>\n",
       "      <th>3</th>\n",
       "      <td>2001.0</td>\n",
       "      <td>770.498485</td>\n",
       "      <td>64707.290345</td>\n",
       "      <td>770.498485</td>\n",
       "    </tr>\n",
       "    <tr>\n",
       "      <th>4</th>\n",
       "      <td>2001.0</td>\n",
       "      <td>735.002861</td>\n",
       "      <td>51737.324165</td>\n",
       "      <td>735.002861</td>\n",
       "    </tr>\n",
       "  </tbody>\n",
       "</table>\n",
       "</div>"
      ],
      "text/plain": [
       "   grad_year     gre_qnt     salary_p4  gre_qnt_modified\n",
       "0     2001.0  739.737072  67400.475185        739.737072\n",
       "1     2001.0  721.811673  67600.584142        721.811673\n",
       "2     2001.0  736.277908  58704.880589        736.277908\n",
       "3     2001.0  770.498485  64707.290345        770.498485\n",
       "4     2001.0  735.002861  51737.324165        735.002861"
      ]
     },
     "execution_count": 35,
     "metadata": {},
     "output_type": "execute_result"
    }
   ],
   "source": [
    "income_bf2011['gre_qnt_modified'] = income_bf2011.gre_qnt\n",
    "income_bf2011.head()"
   ]
  },
  {
   "cell_type": "code",
   "execution_count": 36,
   "metadata": {},
   "outputs": [
    {
     "data": {
      "text/html": [
       "<div>\n",
       "<style scoped>\n",
       "    .dataframe tbody tr th:only-of-type {\n",
       "        vertical-align: middle;\n",
       "    }\n",
       "\n",
       "    .dataframe tbody tr th {\n",
       "        vertical-align: top;\n",
       "    }\n",
       "\n",
       "    .dataframe thead th {\n",
       "        text-align: right;\n",
       "    }\n",
       "</style>\n",
       "<table border=\"1\" class=\"dataframe\">\n",
       "  <thead>\n",
       "    <tr style=\"text-align: right;\">\n",
       "      <th></th>\n",
       "      <th>grad_year</th>\n",
       "      <th>gre_qnt</th>\n",
       "      <th>salary_p4</th>\n",
       "      <th>gre_qnt_modified</th>\n",
       "    </tr>\n",
       "  </thead>\n",
       "  <tbody>\n",
       "    <tr>\n",
       "      <th>0</th>\n",
       "      <td>2001.0</td>\n",
       "      <td>739.737072</td>\n",
       "      <td>67400.475185</td>\n",
       "      <td>739.737072</td>\n",
       "    </tr>\n",
       "    <tr>\n",
       "      <th>1</th>\n",
       "      <td>2001.0</td>\n",
       "      <td>721.811673</td>\n",
       "      <td>67600.584142</td>\n",
       "      <td>721.811673</td>\n",
       "    </tr>\n",
       "    <tr>\n",
       "      <th>2</th>\n",
       "      <td>2001.0</td>\n",
       "      <td>736.277908</td>\n",
       "      <td>58704.880589</td>\n",
       "      <td>736.277908</td>\n",
       "    </tr>\n",
       "    <tr>\n",
       "      <th>3</th>\n",
       "      <td>2001.0</td>\n",
       "      <td>770.498485</td>\n",
       "      <td>64707.290345</td>\n",
       "      <td>770.498485</td>\n",
       "    </tr>\n",
       "    <tr>\n",
       "      <th>4</th>\n",
       "      <td>2001.0</td>\n",
       "      <td>735.002861</td>\n",
       "      <td>51737.324165</td>\n",
       "      <td>735.002861</td>\n",
       "    </tr>\n",
       "  </tbody>\n",
       "</table>\n",
       "</div>"
      ],
      "text/plain": [
       "   grad_year     gre_qnt     salary_p4  gre_qnt_modified\n",
       "0     2001.0  739.737072  67400.475185        739.737072\n",
       "1     2001.0  721.811673  67600.584142        721.811673\n",
       "2     2001.0  736.277908  58704.880589        736.277908\n",
       "3     2001.0  770.498485  64707.290345        770.498485\n",
       "4     2001.0  735.002861  51737.324165        735.002861"
      ]
     },
     "execution_count": 36,
     "metadata": {},
     "output_type": "execute_result"
    }
   ],
   "source": [
    "frames = [income_bf2011, income_aft2011]\n",
    "income_mod =  pd.concat(frames)\n",
    "\n",
    "income_mod.head()"
   ]
  },
  {
   "cell_type": "code",
   "execution_count": 37,
   "metadata": {},
   "outputs": [
    {
     "data": {
      "text/html": [
       "<div>\n",
       "<style scoped>\n",
       "    .dataframe tbody tr th:only-of-type {\n",
       "        vertical-align: middle;\n",
       "    }\n",
       "\n",
       "    .dataframe tbody tr th {\n",
       "        vertical-align: top;\n",
       "    }\n",
       "\n",
       "    .dataframe thead th {\n",
       "        text-align: right;\n",
       "    }\n",
       "</style>\n",
       "<table border=\"1\" class=\"dataframe\">\n",
       "  <thead>\n",
       "    <tr style=\"text-align: right;\">\n",
       "      <th></th>\n",
       "      <th>grad_year</th>\n",
       "      <th>gre_qnt</th>\n",
       "      <th>salary_p4</th>\n",
       "      <th>gre_qnt_modified</th>\n",
       "    </tr>\n",
       "  </thead>\n",
       "  <tbody>\n",
       "    <tr>\n",
       "      <th>995</th>\n",
       "      <td>2013.0</td>\n",
       "      <td>160.441025</td>\n",
       "      <td>100430.166532</td>\n",
       "      <td>755.016586</td>\n",
       "    </tr>\n",
       "    <tr>\n",
       "      <th>996</th>\n",
       "      <td>2013.0</td>\n",
       "      <td>160.431891</td>\n",
       "      <td>82198.200872</td>\n",
       "      <td>754.973607</td>\n",
       "    </tr>\n",
       "    <tr>\n",
       "      <th>997</th>\n",
       "      <td>2013.0</td>\n",
       "      <td>154.254526</td>\n",
       "      <td>84340.214218</td>\n",
       "      <td>725.903653</td>\n",
       "    </tr>\n",
       "    <tr>\n",
       "      <th>998</th>\n",
       "      <td>2013.0</td>\n",
       "      <td>162.036321</td>\n",
       "      <td>87600.881985</td>\n",
       "      <td>762.523863</td>\n",
       "    </tr>\n",
       "    <tr>\n",
       "      <th>999</th>\n",
       "      <td>2013.0</td>\n",
       "      <td>156.946735</td>\n",
       "      <td>82854.576903</td>\n",
       "      <td>738.572869</td>\n",
       "    </tr>\n",
       "  </tbody>\n",
       "</table>\n",
       "</div>"
      ],
      "text/plain": [
       "     grad_year     gre_qnt      salary_p4  gre_qnt_modified\n",
       "995     2013.0  160.441025  100430.166532        755.016586\n",
       "996     2013.0  160.431891   82198.200872        754.973607\n",
       "997     2013.0  154.254526   84340.214218        725.903653\n",
       "998     2013.0  162.036321   87600.881985        762.523863\n",
       "999     2013.0  156.946735   82854.576903        738.572869"
      ]
     },
     "execution_count": 37,
     "metadata": {},
     "output_type": "execute_result"
    }
   ],
   "source": [
    "income_mod.tail()"
   ]
  },
  {
   "cell_type": "code",
   "execution_count": 38,
   "metadata": {},
   "outputs": [
    {
     "data": {
      "image/png": "[encoded data removed]",
      "text/plain": [
       "<Figure size 432x288 with 1 Axes>"
      ]
     },
     "metadata": {
      "needs_background": "light"
     },
     "output_type": "display_data"
    }
   ],
   "source": [
    "grad_year = income_mod['grad_year']\n",
    "gre_qnt = income_mod['gre_qnt_modified']\n",
    "income_mod.plot(x='grad_year', y='gre_qnt_modified', kind='scatter')\n",
    "plt.show()"
   ]
  },
  {
   "cell_type": "markdown",
   "metadata": {},
   "source": [
    "#### (c) Create a scatterplot of income and graduation year"
   ]
  },
  {
   "cell_type": "code",
   "execution_count": 39,
   "metadata": {},
   "outputs": [
    {
     "data": {
      "image/png": "[encoded data removed]",
      "text/plain": [
       "<Figure size 432x288 with 1 Axes>"
      ]
     },
     "metadata": {
      "needs_background": "light"
     },
     "output_type": "display_data"
    }
   ],
   "source": [
    "# Code and output of scatterplot\n",
    "grad_year = income['grad_year']\n",
    "salary = income['salary_p4']\n",
    "income.plot(x='grad_year', y='salary_p4', kind='scatter')\n",
    "plt.show()"
   ]
  },
  {
   "cell_type": "markdown",
   "metadata": {},
   "source": [
    "Here is where I'll discuss any problems again ... and propose another solution."
   ]
  },
  {
   "cell_type": "markdown",
   "metadata": {},
   "source": [
    "Problems: The scatter plot above shows that the data of income 4 years after graduation are not stationary. There is a increasing trend that the mean of salary_p4 in each year increases along with the grad_year variable."
   ]
  },
  {
   "cell_type": "markdown",
   "metadata": {},
   "source": [
    "Solution:To address this problem, we need to do some linear modification of salary_p4 data. In particular, I will calculate the average salary for each graduation year, and use the following equation to standardize the salary for each year(use 2001 as the base year):\n",
    "$$salary\\underline{\\hspace{0.5em}}modified=\\frac{salary\\underline{\\hspace{0.5em}}p4}{(1+avg\\underline{\\hspace{0.5em}}growth\\underline{\\hspace{0.5em}}rate)^{grad\\underline{\\hspace{0.5em}}year-2001}}$$"
   ]
  },
  {
   "cell_type": "code",
   "execution_count": 40,
   "metadata": {},
   "outputs": [],
   "source": [
    "#  Code to implement a solution\n",
    "#Calculate the mean salary each year\n",
    "avg_inc_by_year = income['salary_p4'].groupby(income['grad_year']).\\\n",
    "                         mean().values\n",
    "\n",
    "#Calculate the average growth rate in salaries across all 13 years\n",
    "avg_growth_rate = ((avg_inc_by_year[1:] - avg_inc_by_year[:-1]) / \\\n",
    "                   avg_inc_by_year[:-1]).mean()"
   ]
  },
  {
   "cell_type": "code",
   "execution_count": 41,
   "metadata": {},
   "outputs": [
    {
     "data": {
      "text/html": [
       "<div>\n",
       "<style scoped>\n",
       "    .dataframe tbody tr th:only-of-type {\n",
       "        vertical-align: middle;\n",
       "    }\n",
       "\n",
       "    .dataframe tbody tr th {\n",
       "        vertical-align: top;\n",
       "    }\n",
       "\n",
       "    .dataframe thead th {\n",
       "        text-align: right;\n",
       "    }\n",
       "</style>\n",
       "<table border=\"1\" class=\"dataframe\">\n",
       "  <thead>\n",
       "    <tr style=\"text-align: right;\">\n",
       "      <th></th>\n",
       "      <th>grad_year</th>\n",
       "      <th>gre_qnt</th>\n",
       "      <th>salary_p4</th>\n",
       "      <th>gre_qnt_modified</th>\n",
       "      <th>salary_modified</th>\n",
       "    </tr>\n",
       "  </thead>\n",
       "  <tbody>\n",
       "    <tr>\n",
       "      <th>0</th>\n",
       "      <td>2001.0</td>\n",
       "      <td>739.737072</td>\n",
       "      <td>67400.475185</td>\n",
       "      <td>739.737072</td>\n",
       "      <td>67400.475185</td>\n",
       "    </tr>\n",
       "    <tr>\n",
       "      <th>1</th>\n",
       "      <td>2001.0</td>\n",
       "      <td>721.811673</td>\n",
       "      <td>67600.584142</td>\n",
       "      <td>721.811673</td>\n",
       "      <td>67600.584142</td>\n",
       "    </tr>\n",
       "    <tr>\n",
       "      <th>2</th>\n",
       "      <td>2001.0</td>\n",
       "      <td>736.277908</td>\n",
       "      <td>58704.880589</td>\n",
       "      <td>736.277908</td>\n",
       "      <td>58704.880589</td>\n",
       "    </tr>\n",
       "    <tr>\n",
       "      <th>3</th>\n",
       "      <td>2001.0</td>\n",
       "      <td>770.498485</td>\n",
       "      <td>64707.290345</td>\n",
       "      <td>770.498485</td>\n",
       "      <td>64707.290345</td>\n",
       "    </tr>\n",
       "    <tr>\n",
       "      <th>4</th>\n",
       "      <td>2001.0</td>\n",
       "      <td>735.002861</td>\n",
       "      <td>51737.324165</td>\n",
       "      <td>735.002861</td>\n",
       "      <td>51737.324165</td>\n",
       "    </tr>\n",
       "  </tbody>\n",
       "</table>\n",
       "</div>"
      ],
      "text/plain": [
       "   grad_year     gre_qnt     salary_p4  gre_qnt_modified  salary_modified\n",
       "0     2001.0  739.737072  67400.475185        739.737072     67400.475185\n",
       "1     2001.0  721.811673  67600.584142        721.811673     67600.584142\n",
       "2     2001.0  736.277908  58704.880589        736.277908     58704.880589\n",
       "3     2001.0  770.498485  64707.290345        770.498485     64707.290345\n",
       "4     2001.0  735.002861  51737.324165        735.002861     51737.324165"
      ]
     },
     "execution_count": 41,
     "metadata": {},
     "output_type": "execute_result"
    }
   ],
   "source": [
    "#Divide each salary by (1 + avg_growth_rate) ** (grad_year - 2001)\n",
    "income_mod['salary_modified'] =  income['salary_p4']/\\\n",
    "((1 + avg_growth_rate) ** (income['grad_year'] - 2001))\n",
    "income_mod.head()"
   ]
  },
  {
   "cell_type": "code",
   "execution_count": 42,
   "metadata": {},
   "outputs": [
    {
     "data": {
      "text/html": [
       "<div>\n",
       "<style scoped>\n",
       "    .dataframe tbody tr th:only-of-type {\n",
       "        vertical-align: middle;\n",
       "    }\n",
       "\n",
       "    .dataframe tbody tr th {\n",
       "        vertical-align: top;\n",
       "    }\n",
       "\n",
       "    .dataframe thead th {\n",
       "        text-align: right;\n",
       "    }\n",
       "</style>\n",
       "<table border=\"1\" class=\"dataframe\">\n",
       "  <thead>\n",
       "    <tr style=\"text-align: right;\">\n",
       "      <th></th>\n",
       "      <th>grad_year</th>\n",
       "      <th>gre_qnt</th>\n",
       "      <th>salary_p4</th>\n",
       "      <th>gre_qnt_modified</th>\n",
       "      <th>salary_modified</th>\n",
       "    </tr>\n",
       "  </thead>\n",
       "  <tbody>\n",
       "    <tr>\n",
       "      <th>995</th>\n",
       "      <td>2013.0</td>\n",
       "      <td>160.441025</td>\n",
       "      <td>100430.166532</td>\n",
       "      <td>755.016586</td>\n",
       "      <td>69757.765226</td>\n",
       "    </tr>\n",
       "    <tr>\n",
       "      <th>996</th>\n",
       "      <td>2013.0</td>\n",
       "      <td>160.431891</td>\n",
       "      <td>82198.200872</td>\n",
       "      <td>754.973607</td>\n",
       "      <td>57094.028581</td>\n",
       "    </tr>\n",
       "    <tr>\n",
       "      <th>997</th>\n",
       "      <td>2013.0</td>\n",
       "      <td>154.254526</td>\n",
       "      <td>84340.214218</td>\n",
       "      <td>725.903653</td>\n",
       "      <td>58581.849117</td>\n",
       "    </tr>\n",
       "    <tr>\n",
       "      <th>998</th>\n",
       "      <td>2013.0</td>\n",
       "      <td>162.036321</td>\n",
       "      <td>87600.881985</td>\n",
       "      <td>762.523863</td>\n",
       "      <td>60846.675557</td>\n",
       "    </tr>\n",
       "    <tr>\n",
       "      <th>999</th>\n",
       "      <td>2013.0</td>\n",
       "      <td>156.946735</td>\n",
       "      <td>82854.576903</td>\n",
       "      <td>738.572869</td>\n",
       "      <td>57549.940651</td>\n",
       "    </tr>\n",
       "  </tbody>\n",
       "</table>\n",
       "</div>"
      ],
      "text/plain": [
       "     grad_year     gre_qnt      salary_p4  gre_qnt_modified  salary_modified\n",
       "995     2013.0  160.441025  100430.166532        755.016586     69757.765226\n",
       "996     2013.0  160.431891   82198.200872        754.973607     57094.028581\n",
       "997     2013.0  154.254526   84340.214218        725.903653     58581.849117\n",
       "998     2013.0  162.036321   87600.881985        762.523863     60846.675557\n",
       "999     2013.0  156.946735   82854.576903        738.572869     57549.940651"
      ]
     },
     "execution_count": 42,
     "metadata": {},
     "output_type": "execute_result"
    }
   ],
   "source": [
    "income_mod.tail()"
   ]
  },
  {
   "cell_type": "code",
   "execution_count": 43,
   "metadata": {},
   "outputs": [
    {
     "data": {
      "text/html": [
       "<div>\n",
       "<style scoped>\n",
       "    .dataframe tbody tr th:only-of-type {\n",
       "        vertical-align: middle;\n",
       "    }\n",
       "\n",
       "    .dataframe tbody tr th {\n",
       "        vertical-align: top;\n",
       "    }\n",
       "\n",
       "    .dataframe thead th {\n",
       "        text-align: right;\n",
       "    }\n",
       "</style>\n",
       "<table border=\"1\" class=\"dataframe\">\n",
       "  <thead>\n",
       "    <tr style=\"text-align: right;\">\n",
       "      <th></th>\n",
       "      <th>grad_year</th>\n",
       "      <th>gre_qnt</th>\n",
       "      <th>salary_p4</th>\n",
       "      <th>gre_qnt_modified</th>\n",
       "      <th>salary_modified</th>\n",
       "    </tr>\n",
       "  </thead>\n",
       "  <tbody>\n",
       "    <tr>\n",
       "      <th>count</th>\n",
       "      <td>1000.000000</td>\n",
       "      <td>1000.000000</td>\n",
       "      <td>1000.000000</td>\n",
       "      <td>1000.000000</td>\n",
       "      <td>1000.000000</td>\n",
       "    </tr>\n",
       "    <tr>\n",
       "      <th>mean</th>\n",
       "      <td>2006.994000</td>\n",
       "      <td>596.510118</td>\n",
       "      <td>74173.293777</td>\n",
       "      <td>728.534611</td>\n",
       "      <td>61419.808910</td>\n",
       "    </tr>\n",
       "    <tr>\n",
       "      <th>std</th>\n",
       "      <td>3.740582</td>\n",
       "      <td>242.361960</td>\n",
       "      <td>12173.767372</td>\n",
       "      <td>23.619014</td>\n",
       "      <td>7135.610865</td>\n",
       "    </tr>\n",
       "    <tr>\n",
       "      <th>min</th>\n",
       "      <td>2001.000000</td>\n",
       "      <td>141.261398</td>\n",
       "      <td>43179.183141</td>\n",
       "      <td>655.702537</td>\n",
       "      <td>41164.726530</td>\n",
       "    </tr>\n",
       "    <tr>\n",
       "      <th>25%</th>\n",
       "      <td>2004.000000</td>\n",
       "      <td>684.983551</td>\n",
       "      <td>65778.240317</td>\n",
       "      <td>712.274822</td>\n",
       "      <td>56616.517414</td>\n",
       "    </tr>\n",
       "    <tr>\n",
       "      <th>50%</th>\n",
       "      <td>2007.000000</td>\n",
       "      <td>719.106878</td>\n",
       "      <td>73674.204810</td>\n",
       "      <td>727.910127</td>\n",
       "      <td>61467.616002</td>\n",
       "    </tr>\n",
       "    <tr>\n",
       "      <th>75%</th>\n",
       "      <td>2010.000000</td>\n",
       "      <td>739.332537</td>\n",
       "      <td>81838.874129</td>\n",
       "      <td>744.392487</td>\n",
       "      <td>66218.595876</td>\n",
       "    </tr>\n",
       "    <tr>\n",
       "      <th>max</th>\n",
       "      <td>2013.000000</td>\n",
       "      <td>799.715533</td>\n",
       "      <td>115367.665815</td>\n",
       "      <td>800.000000</td>\n",
       "      <td>84516.856633</td>\n",
       "    </tr>\n",
       "  </tbody>\n",
       "</table>\n",
       "</div>"
      ],
      "text/plain": [
       "         grad_year      gre_qnt      salary_p4  gre_qnt_modified  \\\n",
       "count  1000.000000  1000.000000    1000.000000       1000.000000   \n",
       "mean   2006.994000   596.510118   74173.293777        728.534611   \n",
       "std       3.740582   242.361960   12173.767372         23.619014   \n",
       "min    2001.000000   141.261398   43179.183141        655.702537   \n",
       "25%    2004.000000   684.983551   65778.240317        712.274822   \n",
       "50%    2007.000000   719.106878   73674.204810        727.910127   \n",
       "75%    2010.000000   739.332537   81838.874129        744.392487   \n",
       "max    2013.000000   799.715533  115367.665815        800.000000   \n",
       "\n",
       "       salary_modified  \n",
       "count      1000.000000  \n",
       "mean      61419.808910  \n",
       "std        7135.610865  \n",
       "min       41164.726530  \n",
       "25%       56616.517414  \n",
       "50%       61467.616002  \n",
       "75%       66218.595876  \n",
       "max       84516.856633  "
      ]
     },
     "execution_count": 43,
     "metadata": {},
     "output_type": "execute_result"
    }
   ],
   "source": [
    "income_mod.describe()"
   ]
  },
  {
   "cell_type": "code",
   "execution_count": 44,
   "metadata": {},
   "outputs": [
    {
     "data": {
      "image/png": "[encoded data removed]",
      "text/plain": [
       "<Figure size 432x288 with 1 Axes>"
      ]
     },
     "metadata": {
      "needs_background": "light"
     },
     "output_type": "display_data"
    }
   ],
   "source": [
    "grad_year = income_mod['grad_year']\n",
    "logsalary = income_mod['salary_modified']\n",
    "income_mod.plot(x='grad_year', y='salary_modified', kind='scatter')\n",
    "plt.show()"
   ]
  },
  {
   "cell_type": "markdown",
   "metadata": {},
   "source": [
    "#### (d) Re-estimate coefficients with updated variables."
   ]
  },
  {
   "cell_type": "code",
   "execution_count": 45,
   "metadata": {},
   "outputs": [
    {
     "name": "stdout",
     "output_type": "stream",
     "text": [
      "                            OLS Regression Results                            \n",
      "==============================================================================\n",
      "Dep. Variable:        salary_modified   R-squared:                       0.001\n",
      "Model:                            OLS   Adj. R-squared:                 -0.000\n",
      "Method:                 Least Squares   F-statistic:                    0.6043\n",
      "Date:                Tue, 16 Oct 2018   Prob (F-statistic):              0.437\n",
      "Time:                        18:46:45   Log-Likelihood:                -10291.\n",
      "No. Observations:                1000   AIC:                         2.059e+04\n",
      "Df Residuals:                     998   BIC:                         2.060e+04\n",
      "Df Model:                           1                                         \n",
      "Covariance Type:            nonrobust                                         \n",
      "====================================================================================\n",
      "                       coef    std err          t      P>|t|      [0.025      0.975]\n",
      "------------------------------------------------------------------------------------\n",
      "gre_qnt_modified    -7.4321      9.560     -0.777      0.437     -26.193      11.329\n",
      "const             6.683e+04   6968.684      9.591      0.000    5.32e+04    8.05e+04\n",
      "==============================================================================\n",
      "Omnibus:                        0.789   Durbin-Watson:                   2.025\n",
      "Prob(Omnibus):                  0.674   Jarque-Bera (JB):                0.698\n",
      "Skew:                           0.060   Prob(JB):                        0.705\n",
      "Kurtosis:                       3.050   Cond. No.                     2.25e+04\n",
      "==============================================================================\n",
      "\n",
      "Warnings:\n",
      "[1] Standard Errors assume that the covariance matrix of the errors is correctly specified.\n",
      "[2] The condition number is large, 2.25e+04. This might indicate that there are\n",
      "strong multicollinearity or other numerical problems.\n"
     ]
    }
   ],
   "source": [
    "# Code to re-estimate, output of new coefficients\n",
    "outcome = ['salary_modified']\n",
    "features =  ['gre_qnt_modified']\n",
    "X, y = income_mod[features], income_mod[outcome]\n",
    "X = sm.add_constant(X, prepend=False)\n",
    "\n",
    "m = sm.OLS(y, X)\n",
    "res = m.fit()\n",
    "print(res.summary())"
   ]
  },
  {
   "cell_type": "markdown",
   "metadata": {},
   "source": [
    "Here is where I'll discuss how the coefficients differ, where I'll interpret why the changes  result in new coefficient changes, and where I'll discuss what this suggests about the answer to the question."
   ]
  },
  {
   "cell_type": "markdown",
   "metadata": {},
   "source": [
    "Estimated coefficient $\\beta_{0}$ is 6.683e+04, standard errors of $\\beta_{0}$ is 6968.684, estimated coefficient $\\beta_{1}$ is (-7.4321) , standard errors of $\\beta_{1}$ is 9.560.\n",
    "\n",
    "The estimated coefficient $\\beta_{0}$ is still near zero, and the standard error of $\\beta_{0}$ increases by 8 times. The absolute value of coefficient $\\beta_{1}$ is just 30% of the previous one because we changed the scale of part of gre_qnt data(increase the scale of data after 2011)  and we eliminated potential time trend in the salary_p4 data. The standard errors of $\\beta_{1}$ increased by 7 times. Compared to previous OLS results, we find that $\\beta_{1}$ is less negative and isn't statistically significant, which is much more reliable than previous significant result. \n",
    "\n",
    "The p-value is large and the coefficient $\\beta_1$ is not statistically significant, so the OLS regression result gives no evidence that higher intelligence is associated with higher income."
   ]
  },
  {
   "cell_type": "markdown",
   "metadata": {},
   "source": [
    "### 3. Assessment of Kossinets and Watts."
   ]
  },
  {
   "cell_type": "markdown",
   "metadata": {
    "collapsed": true
   },
   "source": [
    "Please see attached PDF."
   ]
  }
 ],
 "metadata": {
  "kernelspec": {
   "display_name": "Python 3",
   "language": "python",
   "name": "python3"
  },
  "language_info": {
   "codemirror_mode": {
    "name": "ipython",
    "version": 3
   },
   "file_extension": ".py",
   "mimetype": "text/x-python",
   "name": "python",
   "nbconvert_exporter": "python",
   "pygments_lexer": "ipython3",
   "version": "3.7.0"
  }
 },
 "nbformat": 4,
 "nbformat_minor": 1
}
