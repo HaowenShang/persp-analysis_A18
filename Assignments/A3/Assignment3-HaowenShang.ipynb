{
 "cells": [
  {
   "cell_type": "markdown",
   "metadata": {},
   "source": [
    "# Assigment 3"
   ]
  },
  {
   "cell_type": "markdown",
   "metadata": {},
   "source": [
    "### MACS 30000, Dr. Evans\n",
    "### Haowen Shang"
   ]
  },
  {
   "cell_type": "markdown",
   "metadata": {},
   "source": [
    "Due Wednesday, Oct. 24 at 11:30 AM"
   ]
  },
  {
   "cell_type": "markdown",
   "metadata": {},
   "source": [
    "####  1. Simulation in Sociology, Moretti (2002)"
   ]
  },
  {
   "cell_type": "markdown",
   "metadata": {},
   "source": [
    "Please see PDF version."
   ]
  },
  {
   "cell_type": "markdown",
   "metadata": {},
   "source": [
    "#### 2. Simulating the income"
   ]
  },
  {
   "cell_type": "code",
   "execution_count": 39,
   "metadata": {},
   "outputs": [],
   "source": [
    "# Import initial packages\n",
    "import numpy as np\n",
    "import matplotlib.pyplot as plt\n",
    "from matplotlib.ticker import MultipleLocator"
   ]
  },
  {
   "cell_type": "markdown",
   "metadata": {},
   "source": [
    "#### (a) Simulate the lifetime income. Plot one of the lifetime income paths."
   ]
  },
  {
   "cell_type": "code",
   "execution_count": 40,
   "metadata": {},
   "outputs": [],
   "source": [
    "def income_sim(p):\n",
    "    '''\n",
    "    Requires a simulation profile, structured as a dictionary\n",
    "\n",
    "    p = {\n",
    "         'inc0': 80000,             #average starting income\n",
    "         'P': 0.4,                      #positive dependence of today's income on \n",
    "                                           last period's income\n",
    "         'g': 0.025,                   #long-run annual growth rate of income \n",
    "         'st_year': int(2020),       #start year\n",
    "         'work_years': 40,          #years to work\n",
    "         'a': 0,                          #mean of the log of the error term\n",
    "         'Sigma' :0.13,               #standard deviation of the log of the error term          \n",
    "         'num_draws': 10000      #simulations\n",
    "         }\n",
    "    '''\n",
    "    \n",
    "    #set random seed\n",
    "    np.random.seed(524)\n",
    "\n",
    "    log_errors = np.random.normal(p['a'], p['Sigma'], (p['work_years'], \n",
    "                                                       p['num_draws']))\n",
    "\n",
    "    #create a matrix of dimension (work_years, num_draws)\n",
    "    ln_inc_mat = np.zeros((p['work_years'], p['num_draws']))\n",
    "\n",
    "    #fill the matrix\n",
    "    ln_inc_mat[0, :] = np.log(p['inc0']) + log_errors[0, :]\n",
    "\n",
    "    #loop and apply model\n",
    "    for yr in range(1, p['work_years']):\n",
    "        ln_inc_mat[yr, :] = ln_inc_mat[yr, :] = ((1 - p['P']) * (np.log(p['inc0']) + \n",
    "                                p['g'] * (yr)) + p['P'] * ln_inc_mat[yr - 1, :] +\n",
    "                                log_errors[yr, :])\n",
    "        \n",
    "    #translate the log value back into income\n",
    "    inc_mat = np.exp(ln_inc_mat) \n",
    "    return inc_mat"
   ]
  },
  {
   "cell_type": "code",
   "execution_count": 41,
   "metadata": {},
   "outputs": [
    {
     "name": "stdout",
     "output_type": "stream",
     "text": [
      "[[ 66409.15585396  98274.13534194 101939.81109509 ...  98720.39690442\n",
      "   72404.51636886  68710.32820307]\n",
      " [ 80020.53020329  67383.19350738  84557.85626308 ...  68247.7770509\n",
      "   74518.33613244  80555.96068584]\n",
      " [ 75805.26636606  66134.42494243  91458.20304692 ...  67268.53350159\n",
      "   90012.42673528  80645.62355527]\n",
      " ...\n",
      " [272690.56519108 217821.73027242 184724.24512469 ... 159922.45424852\n",
      "  253961.68337673 209741.55004062]\n",
      " [231539.17420799 202509.15149494 197955.96626493 ... 199502.43481758\n",
      "  210951.71828579 205420.27946389]\n",
      " [197895.95201384 165115.10025278 172644.86927513 ... 248654.44847819\n",
      "  234237.14656466 221566.29879732]]\n"
     ]
    }
   ],
   "source": [
    "simulation_profile = {\n",
    "         'inc0': 80000,              #average starting income\n",
    "         'P': 0.4,      #positive dependence of today's income on last period's income\n",
    "         'g': 0.025,                   #long-run annual growth rate of income \n",
    "         'st_year': int(2020),       #start year\n",
    "         'work_years': 40,          #years to work\n",
    "         'a': 0,                          #mean of the log of the error term\n",
    "         'Sigma' :0.13,              #standard deviation of the log of the error term          \n",
    "         'num_draws': 10000      #simulations\n",
    "         }\n",
    "\n",
    "inc_mat = income_sim(simulation_profile)\n",
    "print(inc_mat)   "
   ]
  },
  {
   "cell_type": "code",
   "execution_count": 42,
   "metadata": {},
   "outputs": [
    {
     "data": {
      "text/plain": [
       "Text(0,0.5,'Annual income (\\\\$s)')"
      ]
     },
     "execution_count": 42,
     "metadata": {},
     "output_type": "execute_result"
    },
    {
     "data": {
      "image/png": "[encoded data removed]",
      "text/plain": [
       "<Figure size 432x288 with 1 Axes>"
      ]
     },
     "metadata": {
      "needs_background": "light"
     },
     "output_type": "display_data"
    }
   ],
   "source": [
    "#plot the histogram\n",
    "%matplotlib inline\n",
    "p = simulation_profile\n",
    "year_vec = np.arange(p['st_year'], p['st_year'] + p['work_years'])\n",
    "individual = 500\n",
    "fig, ax = plt.subplots()\n",
    "plt.plot(year_vec, inc_mat[:, individual])\n",
    "minorLocator = MultipleLocator(1)\n",
    "ax.xaxis.set_minor_locator(minorLocator)\n",
    "plt.grid(b=True, which='major', color='0.65', linestyle='-')\n",
    "plt.title('Individual simulated lifetime income', fontsize=10)\n",
    "plt.xlabel(r'Year $t$')\n",
    "plt.ylabel(r'Annual income (\\$s)')"
   ]
  },
  {
   "cell_type": "markdown",
   "metadata": {},
   "source": [
    "#### (b) Plot a histogram and analyse"
   ]
  },
  {
   "cell_type": "code",
   "execution_count": 43,
   "metadata": {},
   "outputs": [
    {
     "data": {
      "text/plain": [
       "Text(0.5,1,'Initial income for simulations')"
      ]
     },
     "execution_count": 43,
     "metadata": {},
     "output_type": "execute_result"
    },
    {
     "data": {
      "image/png": "[encoded data removed]",
      "text/plain": [
       "<Figure size 432x288 with 1 Axes>"
      ]
     },
     "metadata": {
      "needs_background": "light"
     },
     "output_type": "display_data"
    }
   ],
   "source": [
    "plt.hist(inc_mat[0,:], bins=50)\n",
    "plt.xlabel(\"Income Distribution\")\n",
    "plt.ylabel(\"Frequency\")\n",
    "plt.title(\"Initial income for simulations\")"
   ]
  },
  {
   "cell_type": "code",
   "execution_count": 44,
   "metadata": {},
   "outputs": [
    {
     "name": "stdout",
     "output_type": "stream",
     "text": [
      "The percent of the class will earn more than $100,000 in the first year out of the program is 4.17%\n"
     ]
    }
   ],
   "source": [
    "# calculate the percent of the class will earn more than $100,000 \n",
    "#in the first year out of the program\n",
    "inc_more = (inc_mat[0, :] > 100000).sum() / 10000\n",
    "print(\"The percent of the class will earn more than $100,000 in the first year out of the program is {:.2f}%\".format(inc_more*100))"
   ]
  },
  {
   "cell_type": "markdown",
   "metadata": {},
   "source": [
    "The percent of the class will earn more than $100,000 in the first year out of the program is 4.17%."
   ]
  },
  {
   "cell_type": "code",
   "execution_count": 45,
   "metadata": {},
   "outputs": [
    {
     "name": "stdout",
     "output_type": "stream",
     "text": [
      "The percent of the class will earn less than $70,000 in the first year out of the program is 15.12%\n"
     ]
    }
   ],
   "source": [
    "# calculate the percent of the class will earn less than $70,000 \n",
    "#in the first year out of the program\n",
    "inc_less = (inc_mat[0, :] < 70000).sum() / 10000\n",
    "print(\"The percent of the class will earn less than $70,000 in the first year out of the program is {:.2f}%\".format(inc_less*100))"
   ]
  },
  {
   "cell_type": "markdown",
   "metadata": {},
   "source": [
    "The percent of the class will earn less than $70,000 in the first year out of the program is 15.12%.\n",
    "\n",
    "The distrubution is slightly right-skewed, but overall the distrubution is approximately normal."
   ]
  },
  {
   "cell_type": "markdown",
   "metadata": {},
   "source": [
    "#### (c) years to pay off 95,000 of zero-interest debt with initial income = 80000"
   ]
  },
  {
   "cell_type": "code",
   "execution_count": 46,
   "metadata": {},
   "outputs": [
    {
     "data": {
      "text/plain": [
       "Text(0.5,1,'Histogram for years to payoff loan')"
      ]
     },
     "execution_count": 46,
     "metadata": {},
     "output_type": "execute_result"
    },
    {
     "data": {
      "image/png": "[encoded data removed]",
      "text/plain": [
       "<Figure size 432x288 with 1 Axes>"
      ]
     },
     "metadata": {
      "needs_background": "light"
     },
     "output_type": "display_data"
    }
   ],
   "source": [
    "#Creating a matrix create a matrix of payoff (dimension (num_draws, work_years))\n",
    "payoff_mat = np.zeros((p[\"num_draws\"], p[\"work_years\"]))\n",
    "\n",
    "#loop and fill the matrix\n",
    "for yr in range(0, p[\"work_years\"]):\n",
    "    payoff_mat[: , yr] = inc_mat[yr, :] * 0.1\n",
    "\n",
    "#create a list of how many years it takes to pay off the loan in  10,000 simulations\n",
    "payoff_yr = []\n",
    "for row in payoff_mat:\n",
    "    yr = 0\n",
    "    total = 0\n",
    "    for i in row:\n",
    "        yr = yr +1\n",
    "        total = total + i\n",
    "        if total >= 95000:\n",
    "            payoff_yr.append(yr)\n",
    "            break\n",
    "            \n",
    "#plot the histogram\n",
    "plt.hist(payoff_yr, density = True, \n",
    "         bins = np.arange(min(payoff_yr) - 1, max(payoff_yr) + 1))\n",
    "plt.xlabel(r'Years to payoff loan')\n",
    "plt.ylabel(r'Density')\n",
    "plt.title(r'Histogram for years to payoff loan')"
   ]
  },
  {
   "cell_type": "code",
   "execution_count": 47,
   "metadata": {},
   "outputs": [
    {
     "name": "stdout",
     "output_type": "stream",
     "text": [
      "percent of the simulations of people who is able to pay off the loan in 10 years is 16.78%\n"
     ]
    }
   ],
   "source": [
    "#calculate the percent of the simulations who is able to pay off the loan in 10 years (on or before t = 2029)\n",
    "count = 0\n",
    "for yr in payoff_yr:\n",
    "    if yr <= 10:\n",
    "        count = count + 1\n",
    "percentage = count/10000\n",
    "print(\"percent of the simulations of people who is able to pay off the loan in 10 years is {:.2f}%\".format(percentage*100))"
   ]
  },
  {
   "cell_type": "markdown",
   "metadata": {},
   "source": [
    "The percent of the simulations of people who is able to pay off the loan in 10 years is 16.78%."
   ]
  },
  {
   "cell_type": "markdown",
   "metadata": {},
   "source": [
    "#### (d) years to pay off 95,000 of zero-interest debt with initial income = 90000"
   ]
  },
  {
   "cell_type": "code",
   "execution_count": 48,
   "metadata": {},
   "outputs": [
    {
     "name": "stdout",
     "output_type": "stream",
     "text": [
      "[[ 74710.30033571 110558.40225969 114682.28748197 ... 111060.44651748\n",
      "   81455.08091496  77299.11922846]\n",
      " [ 90023.0964787   75806.0926958   95127.58829597 ...  76778.74918227\n",
      "   83833.128149    90625.45577157]\n",
      " [ 85280.92466182  74401.22806023 102890.47842778 ...  75677.10018929\n",
      "  101263.9800772   90726.32649968]\n",
      " ...\n",
      " [306776.88583997 245049.44655647 207814.77576527 ... 179912.76102958\n",
      "  285706.89379882 235959.2437957 ]\n",
      " [260481.57098399 227822.7954318  222700.46204805 ... 224440.23916978\n",
      "  237320.68307151 231097.81439688]\n",
      " [222632.94601557 185754.48778437 194225.47793452 ... 279736.25453796\n",
      "  263516.78988524 249262.08614698]]\n"
     ]
    }
   ],
   "source": [
    "#modify the income matrix\n",
    "new_simulation_profile = {\n",
    "         'inc0': 90000,             #average starting income\n",
    "         'P': 0.4,      #positive dependence of today's income on last period's income\n",
    "         'g': 0.025,                   #long-run annual growth rate of income \n",
    "         'st_year': int(2020),       #start year\n",
    "         'work_years': 40,          #years to work\n",
    "         'a': 0,                          #mean of the log of the error term\n",
    "         'Sigma' :0.13,           #standard deviation of the log of the error term          \n",
    "         'num_draws': 10000      #simulations\n",
    "         }\n",
    "\n",
    "inc_mat_modified = income_sim(new_simulation_profile)\n",
    "print(inc_mat_modified)   "
   ]
  },
  {
   "cell_type": "code",
   "execution_count": 49,
   "metadata": {},
   "outputs": [
    {
     "data": {
      "text/plain": [
       "Text(0.5,1,'Histogram for years to payoff loan')"
      ]
     },
     "execution_count": 49,
     "metadata": {},
     "output_type": "execute_result"
    },
    {
     "data": {
      "image/png": "[encoded data removed]",
      "text/plain": [
       "<Figure size 432x288 with 1 Axes>"
      ]
     },
     "metadata": {
      "needs_background": "light"
     },
     "output_type": "display_data"
    }
   ],
   "source": [
    "#Creating a matrix create a matrix of payoff (dimension (num_draws, work_years))\n",
    "payoff_mat_modified = np.zeros((p[\"num_draws\"], p[\"work_years\"]))\n",
    "\n",
    "#loop and fill the matrix\n",
    "for yr in range(0, p[\"work_years\"]):\n",
    "    payoff_mat_modified[: , yr] = inc_mat_modified[yr, :] * 0.1\n",
    "\n",
    "#create a list of how many years it takes to pay off the loan in 10,000 simulations\n",
    "payoff_yr_modified = []\n",
    "for row in payoff_mat_modified:\n",
    "    yr = 0\n",
    "    total = 0\n",
    "    for i in row:\n",
    "        yr = yr +1\n",
    "        total = total + i\n",
    "        if total >= 95000:\n",
    "            payoff_yr_modified.append(yr)\n",
    "            break\n",
    "            \n",
    "#plot the histogram\n",
    "plt.hist(payoff_yr_modified, density = True, \n",
    "         bins = np.arange(min(payoff_yr_modified) - 1, max(payoff_yr_modified) + 1))\n",
    "plt.xlabel(r'Years to payoff loan')\n",
    "plt.ylabel(r'Density')\n",
    "plt.title(r'Histogram for years to payoff loan')"
   ]
  },
  {
   "cell_type": "code",
   "execution_count": 50,
   "metadata": {},
   "outputs": [
    {
     "name": "stdout",
     "output_type": "stream",
     "text": [
      "percent of the simulations of people who is able to pay off the loan in 10 years with initial salary of 90000 is 79.92%\n"
     ]
    }
   ],
   "source": [
    "#calculate the percent of the simulations who is able to pay off the loan in 10 years (on or before t = 2029)\n",
    "count = 0\n",
    "for yr in payoff_yr_modified:\n",
    "    if yr <= 10:\n",
    "        count = count + 1\n",
    "percentage = count/10000\n",
    "print(\"percent of the simulations of people who is able to pay off the loan \\\n",
    "in 10 years with initial salary of 90000 is {:.2f}%\".format(percentage*100))"
   ]
  },
  {
   "cell_type": "markdown",
   "metadata": {},
   "source": [
    "The percent of the simulations of people who is able to pay off the loan in 10 years with initial salary of 90000 is 79.92%."
   ]
  }
 ],
 "metadata": {
  "kernelspec": {
   "display_name": "Python 3",
   "language": "python",
   "name": "python3"
  },
  "language_info": {
   "codemirror_mode": {
    "name": "ipython",
    "version": 3
   },
   "file_extension": ".py",
   "mimetype": "text/x-python",
   "name": "python",
   "nbconvert_exporter": "python",
   "pygments_lexer": "ipython3",
   "version": "3.7.0"
  }
 },
 "nbformat": 4,
 "nbformat_minor": 2
}
